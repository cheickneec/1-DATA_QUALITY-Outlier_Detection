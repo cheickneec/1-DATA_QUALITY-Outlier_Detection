{
 "cells": [
  {
   "cell_type": "code",
   "execution_count": 1,
   "metadata": {},
   "outputs": [
    {
     "name": "stderr",
     "output_type": "stream",
     "text": [
      "Using TensorFlow backend.\n"
     ]
    }
   ],
   "source": [
    "import pandas as pd\n",
    "import matplotlib.pyplot as plt\n",
    "from sklearn.preprocessing import StandardScaler\n",
    "from sklearn.ensemble import IsolationForest\n",
    "from keras.layers import Input, Dense\n",
    "from keras.models import Model\n",
    "from sklearn.model_selection import train_test_split\n",
    "import numpy as np\n",
    "from scipy.spatial import distance\n",
    "from sklearn.neighbors import KNeighborsClassifier,LocalOutlierFactor\n",
    "import h5py as h5\n",
    "import pywt\n",
    "import keras\n",
    "from keras.layers import Conv2D, Input, Reshape, Flatten, Deconvolution2D, Conv2DTranspose, MaxPooling2D, UpSampling2D\n",
    "from keras.layers import Conv1D, MaxPooling1D, UpSampling1D"
   ]
  },
  {
   "cell_type": "code",
   "execution_count": 2,
   "metadata": {},
   "outputs": [],
   "source": [
    "with h5.File(\"databaseXETR.h5\", \"r\") as f:\n",
    "    datasetNames = [n for n in f.keys()]"
   ]
  },
  {
   "cell_type": "code",
   "execution_count": 3,
   "metadata": {
    "scrolled": true
   },
   "outputs": [
    {
     "name": "stdout",
     "output_type": "stream",
     "text": [
      ".GDAXI\n",
      "5ABG.DE\n",
      "AB1.DE\n",
      "ADAG.DE\n",
      "ADSGn.DE\n",
      "AFXG.DE\n",
      "AIXGn.DE\n",
      "ALVG.DE\n",
      "AQUG.DE\n",
      "ARLG.DE\n",
      "B5AG.DE\n",
      "BAFG.DE\n",
      "BASFn.DE\n",
      "BAYGn.DE\n",
      "BDTG.DE\n",
      "BEIG.DE\n",
      "BION.DE\n",
      "BMWG.DE\n",
      "BMWG_p.DE\n",
      "BNRGn.DE\n",
      "BOSG_p.DE\n",
      "BVB.DE\n",
      "BYWGnx.DE\n",
      "CBKG.DE\n",
      "CEVG.DE\n",
      "CLSGn.DE\n",
      "CONG.DE\n",
      "CTNG.DE\n",
      "D9CGn.DE\n",
      "DAIGn.DE\n",
      "DAZG.DE\n",
      "DB1Gn.DE\n",
      "DBKGn.DE\n",
      "DEQGn.DE\n",
      "DEXGn.DE\n",
      "DEZG.DE\n",
      "DLGS.DE\n",
      "DOHG.DE\n",
      "DPBGn.DE\n",
      "DPWGn.DE\n",
      "DRIG.DE\n",
      "DRWG_p.DE\n",
      "DTEGn.DE\n",
      "DUEG.DE\n",
      "DWNG.DE\n",
      "EONGn.DE\n",
      "EVDG.DE\n",
      "EVTG.DE\n",
      "FDXc1\n",
      "FIEG.DE\n",
      "FMEG.DE\n",
      "FNTGn.DE\n",
      "FPEG.DE\n",
      "FPEG_p.DE\n",
      "FRAG.DE\n",
      "FREG.DE\n",
      "FREG_p.DE\n",
      "G1AG.DE\n",
      "GAZPy.DE\n",
      "GBFG.DE\n",
      "GFJG.DE\n",
      "GILG.DE\n",
      "GMMG.DE\n",
      "GWIG.DE\n",
      "GXIG.DE\n",
      "HDDG.DE\n",
      "HEIG.DE\n",
      "HHFGn.DE\n",
      "HNKG.DE\n",
      "HNKG_p.DE\n",
      "HNRGn.DE\n",
      "HOTG.DE\n",
      "IFXGn.DE\n",
      "INHG.DE\n",
      "IVGG.DE\n",
      "JUNG_p.DE\n",
      "KBCG.DE\n",
      "KCOGn.DE\n",
      "KD8Gn.DE\n",
      "KRNG.DE\n",
      "KU2G.DE\n",
      "LEOGn.DE\n",
      "LHAG.DE\n",
      "LING.DE\n",
      "LPKG.DE\n",
      "LXSG.DE\n",
      "M5ZG.DE\n",
      "MANG.DE\n",
      "MANG_p.DE\n",
      "MEOG.DE\n",
      "MORG.DE\n",
      "MRCG.DE\n",
      "MTXGn.DE\n",
      "MUVGn.DE\n",
      "NAFG.DE\n",
      "NDXG.DE\n",
      "PFDGn.DE\n",
      "PRAG.DE\n",
      "PS4G.DE\n",
      "PSHG_p.DE\n",
      "PSMG_p.DE\n",
      "PUMG.DE\n",
      "PV.DE\n",
      "QCEG.DE\n",
      "QGEN.DE\n",
      "QSCG.DE\n",
      "R8RG.DE\n",
      "RAAG.DE\n",
      "RHKG.DE\n",
      "RHMG.DE\n",
      "RWEG.DE\n",
      "RWEG_p.DE\n",
      "S2MG.DE\n",
      "S92G.DE\n",
      "SAPG.DE\n",
      "SAXG.DE\n",
      "SDFG.DE\n",
      "SFQN.DE\n",
      "SGCG.DE\n",
      "SIEGn.DE\n",
      "SIXG.DE\n",
      "SKYDn.DE\n",
      "SMHG.DE\n",
      "SNGG.DE\n",
      "SOOG.DE\n",
      "SOWG.DE\n",
      "SPRGn.DE\n",
      "STAGn.DE\n",
      "SWVG.DE\n",
      "SY1G.DE\n",
      "SZGG.DE\n",
      "SZUG.DE\n",
      "TELP.DE\n",
      "TGMG.DE\n",
      "TKAG.DE\n",
      "TUIGn.DE\n",
      "UTDI.DE\n",
      "VOSG.DE\n",
      "VOWG.DE\n",
      "VOWG_p.DE\n",
      "WCHG.DE\n",
      "WDIG.DE\n",
      "WING.DE\n",
      "ZILGn.DE\n"
     ]
    }
   ],
   "source": [
    "for n in datasetNames:\n",
    "    print(n)"
   ]
  },
  {
   "cell_type": "markdown",
   "metadata": {},
   "source": [
    "# Abnormal subsequence detection: instrument code \"ADAG.DE\" "
   ]
  },
  {
   "cell_type": "code",
   "execution_count": 5,
   "metadata": {},
   "outputs": [
    {
     "name": "stdout",
     "output_type": "stream",
     "text": [
      "TRADE\n"
     ]
    }
   ],
   "source": [
    "f = h5.File(\"databaseXETR.h5\", \"r\")\n",
    "group = f[\"ADAG.DE\"]\n",
    "for key in group.keys():\n",
    "    print(key)"
   ]
  },
  {
   "cell_type": "code",
   "execution_count": 6,
   "metadata": {},
   "outputs": [
    {
     "name": "stderr",
     "output_type": "stream",
     "text": [
      "/anaconda3/lib/python3.6/site-packages/ipykernel_launcher.py:1: H5pyDeprecationWarning: dataset.value has been deprecated. Use dataset[()] instead.\n",
      "  \"\"\"Entry point for launching an IPython kernel.\n"
     ]
    }
   ],
   "source": [
    "data = group[\"TRADE\"].value"
   ]
  },
  {
   "cell_type": "code",
   "execution_count": 7,
   "metadata": {},
   "outputs": [
    {
     "data": {
      "text/plain": [
       "array([(4.55 , b'2005-01-03 09:03:00', 1104739380, 4.55, b'ADAG.DE', 4.55 ,  1, 4.55 , b'',  1000, 4.55     ),\n",
       "       (4.52 , b'2005-01-03 09:46:00', 1104741960, 4.52, b'ADAG.DE', 4.52 ,  1, 4.52 , b'',  1500, 4.52     ),\n",
       "       (4.59 , b'2005-01-03 09:47:00', 1104742020, 4.59, b'ADAG.DE', 4.59 ,  1, 4.59 , b'',   100, 4.59     ),\n",
       "       ...,\n",
       "       (5.251, b'2011-05-03 17:28:00', 1304436480, 5.26, b'ADAG.DE', 5.251, 10, 5.251, b'',  5868, 5.2569203),\n",
       "       (5.26 , b'2011-05-03 17:29:00', 1304436540, 5.26, b'ADAG.DE', 5.251,  4, 5.26 , b'',  4904, 5.2599945),\n",
       "       (5.25 , b'2011-05-03 17:35:00', 1304436900, 5.25, b'ADAG.DE', 5.25 ,  1, 5.25 , b'', 20833, 5.25     )],\n",
       "      dtype=[('close', '<f4'), ('datetime', 'S32'), ('epochDateTime', '<i8'), ('high', '<f4'), ('instrumentcode', 'S16'), ('low', '<f4'), ('nbtick', '<i8'), ('open', '<f4'), ('rowEffDateTimeStr', 'S32'), ('volume', '<i8'), ('vwap', '<f4')])"
      ]
     },
     "execution_count": 7,
     "metadata": {},
     "output_type": "execute_result"
    }
   ],
   "source": [
    "data"
   ]
  },
  {
   "cell_type": "code",
   "execution_count": 8,
   "metadata": {},
   "outputs": [],
   "source": [
    "f.close()"
   ]
  },
  {
   "cell_type": "code",
   "execution_count": 9,
   "metadata": {},
   "outputs": [],
   "source": [
    "df = np.empty(shape=(data.shape[0],11),dtype='O')\n",
    "for row in range(data.shape[0]):\n",
    "    for col in range(11):\n",
    "        df[row,col]= data[row][col]"
   ]
  },
  {
   "cell_type": "code",
   "execution_count": 10,
   "metadata": {},
   "outputs": [],
   "source": [
    "df2= pd.DataFrame(df,columns = [\"close\",\"datetime\",\"epochDateTime\",\"high\",\"instrumentcode\",\"low\",\"nbtick\",\"open\",\\\n",
    "                               \"rowEffDateTimeStr\",\"volume\",\"vwap\"])"
   ]
  },
  {
   "cell_type": "code",
   "execution_count": 11,
   "metadata": {},
   "outputs": [
    {
     "data": {
      "text/html": [
       "<div>\n",
       "<style scoped>\n",
       "    .dataframe tbody tr th:only-of-type {\n",
       "        vertical-align: middle;\n",
       "    }\n",
       "\n",
       "    .dataframe tbody tr th {\n",
       "        vertical-align: top;\n",
       "    }\n",
       "\n",
       "    .dataframe thead th {\n",
       "        text-align: right;\n",
       "    }\n",
       "</style>\n",
       "<table border=\"1\" class=\"dataframe\">\n",
       "  <thead>\n",
       "    <tr style=\"text-align: right;\">\n",
       "      <th></th>\n",
       "      <th>close</th>\n",
       "      <th>datetime</th>\n",
       "      <th>epochDateTime</th>\n",
       "      <th>high</th>\n",
       "      <th>instrumentcode</th>\n",
       "      <th>low</th>\n",
       "      <th>nbtick</th>\n",
       "      <th>open</th>\n",
       "      <th>rowEffDateTimeStr</th>\n",
       "      <th>volume</th>\n",
       "      <th>vwap</th>\n",
       "    </tr>\n",
       "  </thead>\n",
       "  <tbody>\n",
       "    <tr>\n",
       "      <th>0</th>\n",
       "      <td>4.55</td>\n",
       "      <td>b'2005-01-03 09:03:00'</td>\n",
       "      <td>1104739380</td>\n",
       "      <td>4.55</td>\n",
       "      <td>b'ADAG.DE'</td>\n",
       "      <td>4.55</td>\n",
       "      <td>1</td>\n",
       "      <td>4.55</td>\n",
       "      <td>b''</td>\n",
       "      <td>1000</td>\n",
       "      <td>4.55</td>\n",
       "    </tr>\n",
       "    <tr>\n",
       "      <th>1</th>\n",
       "      <td>4.52</td>\n",
       "      <td>b'2005-01-03 09:46:00'</td>\n",
       "      <td>1104741960</td>\n",
       "      <td>4.52</td>\n",
       "      <td>b'ADAG.DE'</td>\n",
       "      <td>4.52</td>\n",
       "      <td>1</td>\n",
       "      <td>4.52</td>\n",
       "      <td>b''</td>\n",
       "      <td>1500</td>\n",
       "      <td>4.52</td>\n",
       "    </tr>\n",
       "    <tr>\n",
       "      <th>2</th>\n",
       "      <td>4.59</td>\n",
       "      <td>b'2005-01-03 09:47:00'</td>\n",
       "      <td>1104742020</td>\n",
       "      <td>4.59</td>\n",
       "      <td>b'ADAG.DE'</td>\n",
       "      <td>4.59</td>\n",
       "      <td>1</td>\n",
       "      <td>4.59</td>\n",
       "      <td>b''</td>\n",
       "      <td>100</td>\n",
       "      <td>4.59</td>\n",
       "    </tr>\n",
       "    <tr>\n",
       "      <th>3</th>\n",
       "      <td>4.56</td>\n",
       "      <td>b'2005-01-03 09:52:00'</td>\n",
       "      <td>1104742320</td>\n",
       "      <td>4.56</td>\n",
       "      <td>b'ADAG.DE'</td>\n",
       "      <td>4.56</td>\n",
       "      <td>1</td>\n",
       "      <td>4.56</td>\n",
       "      <td>b''</td>\n",
       "      <td>1500</td>\n",
       "      <td>4.56</td>\n",
       "    </tr>\n",
       "    <tr>\n",
       "      <th>4</th>\n",
       "      <td>4.57</td>\n",
       "      <td>b'2005-01-03 10:52:00'</td>\n",
       "      <td>1104745920</td>\n",
       "      <td>4.57</td>\n",
       "      <td>b'ADAG.DE'</td>\n",
       "      <td>4.57</td>\n",
       "      <td>1</td>\n",
       "      <td>4.57</td>\n",
       "      <td>b''</td>\n",
       "      <td>1</td>\n",
       "      <td>4.57</td>\n",
       "    </tr>\n",
       "    <tr>\n",
       "      <th>5</th>\n",
       "      <td>4.57</td>\n",
       "      <td>b'2005-01-03 11:04:00'</td>\n",
       "      <td>1104746640</td>\n",
       "      <td>4.57</td>\n",
       "      <td>b'ADAG.DE'</td>\n",
       "      <td>4.57</td>\n",
       "      <td>1</td>\n",
       "      <td>4.57</td>\n",
       "      <td>b''</td>\n",
       "      <td>1000</td>\n",
       "      <td>4.57</td>\n",
       "    </tr>\n",
       "    <tr>\n",
       "      <th>6</th>\n",
       "      <td>4.52</td>\n",
       "      <td>b'2005-01-03 11:09:00'</td>\n",
       "      <td>1104746940</td>\n",
       "      <td>4.52</td>\n",
       "      <td>b'ADAG.DE'</td>\n",
       "      <td>4.52</td>\n",
       "      <td>1</td>\n",
       "      <td>4.52</td>\n",
       "      <td>b''</td>\n",
       "      <td>70</td>\n",
       "      <td>4.52</td>\n",
       "    </tr>\n",
       "  </tbody>\n",
       "</table>\n",
       "</div>"
      ],
      "text/plain": [
       "  close                datetime epochDateTime  high instrumentcode   low  \\\n",
       "0  4.55  b'2005-01-03 09:03:00'    1104739380  4.55     b'ADAG.DE'  4.55   \n",
       "1  4.52  b'2005-01-03 09:46:00'    1104741960  4.52     b'ADAG.DE'  4.52   \n",
       "2  4.59  b'2005-01-03 09:47:00'    1104742020  4.59     b'ADAG.DE'  4.59   \n",
       "3  4.56  b'2005-01-03 09:52:00'    1104742320  4.56     b'ADAG.DE'  4.56   \n",
       "4  4.57  b'2005-01-03 10:52:00'    1104745920  4.57     b'ADAG.DE'  4.57   \n",
       "5  4.57  b'2005-01-03 11:04:00'    1104746640  4.57     b'ADAG.DE'  4.57   \n",
       "6  4.52  b'2005-01-03 11:09:00'    1104746940  4.52     b'ADAG.DE'  4.52   \n",
       "\n",
       "  nbtick  open rowEffDateTimeStr volume  vwap  \n",
       "0      1  4.55               b''   1000  4.55  \n",
       "1      1  4.52               b''   1500  4.52  \n",
       "2      1  4.59               b''    100  4.59  \n",
       "3      1  4.56               b''   1500  4.56  \n",
       "4      1  4.57               b''      1  4.57  \n",
       "5      1  4.57               b''   1000  4.57  \n",
       "6      1  4.52               b''     70  4.52  "
      ]
     },
     "execution_count": 11,
     "metadata": {},
     "output_type": "execute_result"
    }
   ],
   "source": [
    "df2.head(7)"
   ]
  },
  {
   "cell_type": "code",
   "execution_count": 12,
   "metadata": {},
   "outputs": [],
   "source": [
    "df2[\"close\"] = df2[\"close\"].astype(\"float\")\n",
    "df2[\"epochDateTime\"] = df2[\"epochDateTime\"].astype(\"int\")\n",
    "df2[\"high\"] = df2[\"high\"].astype(\"float\")\n",
    "df2[\"low\"] = df2[\"low\"].astype(\"float\")\n",
    "df2[\"open\"] = df2[\"open\"].astype(\"float\")\n",
    "df2[\"vwap\"] = df2[\"vwap\"].astype(\"float\")\n",
    "df2[\"nbtick\"] = df2[\"nbtick\"].astype(\"int\")\n",
    "df2[\"volume\"] = df2[\"volume\"].astype(\"int\")"
   ]
  },
  {
   "cell_type": "code",
   "execution_count": 13,
   "metadata": {},
   "outputs": [],
   "source": [
    "df2[\"datetime\"] = df2[\"datetime\"].apply(lambda row:row.decode('UTF-8'))\n",
    "df2[\"datetime\"] = pd.to_datetime(df2[\"datetime\"])"
   ]
  },
  {
   "cell_type": "code",
   "execution_count": 14,
   "metadata": {},
   "outputs": [],
   "source": [
    "df3 = df2[[\"datetime\",\"close\"]].copy()"
   ]
  },
  {
   "cell_type": "code",
   "execution_count": 15,
   "metadata": {},
   "outputs": [],
   "source": [
    "df3.index = df3[\"datetime\"]\n",
    "del df3[\"datetime\"]"
   ]
  },
  {
   "cell_type": "code",
   "execution_count": 16,
   "metadata": {},
   "outputs": [
    {
     "data": {
      "text/html": [
       "<div>\n",
       "<style scoped>\n",
       "    .dataframe tbody tr th:only-of-type {\n",
       "        vertical-align: middle;\n",
       "    }\n",
       "\n",
       "    .dataframe tbody tr th {\n",
       "        vertical-align: top;\n",
       "    }\n",
       "\n",
       "    .dataframe thead th {\n",
       "        text-align: right;\n",
       "    }\n",
       "</style>\n",
       "<table border=\"1\" class=\"dataframe\">\n",
       "  <thead>\n",
       "    <tr style=\"text-align: right;\">\n",
       "      <th></th>\n",
       "      <th>close</th>\n",
       "    </tr>\n",
       "    <tr>\n",
       "      <th>datetime</th>\n",
       "      <th></th>\n",
       "    </tr>\n",
       "  </thead>\n",
       "  <tbody>\n",
       "    <tr>\n",
       "      <th>2005-01-03 09:03:00</th>\n",
       "      <td>4.55</td>\n",
       "    </tr>\n",
       "    <tr>\n",
       "      <th>2005-01-03 09:46:00</th>\n",
       "      <td>4.52</td>\n",
       "    </tr>\n",
       "    <tr>\n",
       "      <th>2005-01-03 09:47:00</th>\n",
       "      <td>4.59</td>\n",
       "    </tr>\n",
       "    <tr>\n",
       "      <th>2005-01-03 09:52:00</th>\n",
       "      <td>4.56</td>\n",
       "    </tr>\n",
       "    <tr>\n",
       "      <th>2005-01-03 10:52:00</th>\n",
       "      <td>4.57</td>\n",
       "    </tr>\n",
       "  </tbody>\n",
       "</table>\n",
       "</div>"
      ],
      "text/plain": [
       "                     close\n",
       "datetime                  \n",
       "2005-01-03 09:03:00   4.55\n",
       "2005-01-03 09:46:00   4.52\n",
       "2005-01-03 09:47:00   4.59\n",
       "2005-01-03 09:52:00   4.56\n",
       "2005-01-03 10:52:00   4.57"
      ]
     },
     "execution_count": 16,
     "metadata": {},
     "output_type": "execute_result"
    }
   ],
   "source": [
    "df3.head()"
   ]
  },
  {
   "cell_type": "code",
   "execution_count": 17,
   "metadata": {},
   "outputs": [
    {
     "data": {
      "text/plain": [
       "<matplotlib.axes._subplots.AxesSubplot at 0x1454766d8>"
      ]
     },
     "execution_count": 17,
     "metadata": {},
     "output_type": "execute_result"
    },
    {
     "data": {
      "image/png": "[encoded data removed]",
      "text/plain": [
       "<Figure size 1440x1080 with 1 Axes>"
      ]
     },
     "metadata": {
      "needs_background": "light"
     },
     "output_type": "display_data"
    }
   ],
   "source": [
    "df3.plot(figsize=(20,15))"
   ]
  },
  {
   "cell_type": "code",
   "execution_count": 18,
   "metadata": {},
   "outputs": [
    {
     "data": {
      "text/plain": [
       "(156567, 1)"
      ]
     },
     "execution_count": 18,
     "metadata": {},
     "output_type": "execute_result"
    }
   ],
   "source": [
    "df3.shape"
   ]
  },
  {
   "cell_type": "code",
   "execution_count": 19,
   "metadata": {},
   "outputs": [],
   "source": [
    "# creation of subsequences of size 28, the indices correspond to the dates of the middle of the subsequences\n",
    "dico = {}\n",
    "for i in range(0,df3.shape[0],28):\n",
    "    ind = df3.index.values[i+14] \n",
    "    dico[ind] = df3.values[i:i+28]"
   ]
  },
  {
   "cell_type": "code",
   "execution_count": 20,
   "metadata": {},
   "outputs": [],
   "source": [
    "newDf = pd.DataFrame.from_dict(dico,orient='index')"
   ]
  },
  {
   "cell_type": "code",
   "execution_count": 21,
   "metadata": {},
   "outputs": [
    {
     "data": {
      "text/html": [
       "<div>\n",
       "<style scoped>\n",
       "    .dataframe tbody tr th:only-of-type {\n",
       "        vertical-align: middle;\n",
       "    }\n",
       "\n",
       "    .dataframe tbody tr th {\n",
       "        vertical-align: top;\n",
       "    }\n",
       "\n",
       "    .dataframe thead th {\n",
       "        text-align: right;\n",
       "    }\n",
       "</style>\n",
       "<table border=\"1\" class=\"dataframe\">\n",
       "  <thead>\n",
       "    <tr style=\"text-align: right;\">\n",
       "      <th></th>\n",
       "      <th>0</th>\n",
       "    </tr>\n",
       "  </thead>\n",
       "  <tbody>\n",
       "    <tr>\n",
       "      <th>2005-01-03 12:18:00</th>\n",
       "      <td>[[4.550000190734863], [4.519999980926514], [4....</td>\n",
       "    </tr>\n",
       "    <tr>\n",
       "      <th>2005-01-04 11:20:00</th>\n",
       "      <td>[[4.829999923706055], [4.75], [4.75], [4.75], ...</td>\n",
       "    </tr>\n",
       "    <tr>\n",
       "      <th>2005-01-05 17:28:00</th>\n",
       "      <td>[[4.679999828338623], [4.679999828338623], [4....</td>\n",
       "    </tr>\n",
       "    <tr>\n",
       "      <th>2005-01-07 10:47:00</th>\n",
       "      <td>[[4.599999904632568], [4.599999904632568], [4....</td>\n",
       "    </tr>\n",
       "    <tr>\n",
       "      <th>2005-01-11 15:14:00</th>\n",
       "      <td>[[4.699999809265137], [4.699999809265137], [4....</td>\n",
       "    </tr>\n",
       "  </tbody>\n",
       "</table>\n",
       "</div>"
      ],
      "text/plain": [
       "                                                                     0\n",
       "2005-01-03 12:18:00  [[4.550000190734863], [4.519999980926514], [4....\n",
       "2005-01-04 11:20:00  [[4.829999923706055], [4.75], [4.75], [4.75], ...\n",
       "2005-01-05 17:28:00  [[4.679999828338623], [4.679999828338623], [4....\n",
       "2005-01-07 10:47:00  [[4.599999904632568], [4.599999904632568], [4....\n",
       "2005-01-11 15:14:00  [[4.699999809265137], [4.699999809265137], [4...."
      ]
     },
     "execution_count": 21,
     "metadata": {},
     "output_type": "execute_result"
    }
   ],
   "source": [
    "newDf.head()"
   ]
  },
  {
   "cell_type": "code",
   "execution_count": 22,
   "metadata": {},
   "outputs": [
    {
     "data": {
      "text/plain": [
       "DatetimeIndex(['2005-01-03 12:18:00', '2005-01-04 11:20:00',\n",
       "               '2005-01-05 17:28:00', '2005-01-07 10:47:00',\n",
       "               '2005-01-11 15:14:00', '2005-01-13 12:32:00',\n",
       "               '2005-01-17 11:39:00', '2005-01-18 17:16:00',\n",
       "               '2005-01-19 14:07:00', '2005-01-19 17:00:00',\n",
       "               ...\n",
       "               '2011-05-02 16:10:00', '2011-05-02 17:14:00',\n",
       "               '2011-05-03 09:21:00', '2011-05-03 10:26:00',\n",
       "               '2011-05-03 11:29:00', '2011-05-03 12:47:00',\n",
       "               '2011-05-03 14:27:00', '2011-05-03 15:59:00',\n",
       "               '2011-05-03 16:35:00', '2011-05-03 17:26:00'],\n",
       "              dtype='datetime64[ns]', length=5592, freq=None)"
      ]
     },
     "execution_count": 22,
     "metadata": {},
     "output_type": "execute_result"
    }
   ],
   "source": [
    "newDf.index"
   ]
  },
  {
   "cell_type": "code",
   "execution_count": 23,
   "metadata": {},
   "outputs": [],
   "source": [
    "newDf.columns = [\"rawTs\"]"
   ]
  },
  {
   "cell_type": "code",
   "execution_count": 24,
   "metadata": {},
   "outputs": [
    {
     "data": {
      "text/plain": [
       "(19, 1)"
      ]
     },
     "execution_count": 24,
     "metadata": {},
     "output_type": "execute_result"
    }
   ],
   "source": [
    "newDf.loc[newDf.index == pd.to_datetime('2011-05-03 17:26:00')].values[0][0].shape"
   ]
  },
  {
   "cell_type": "code",
   "execution_count": 25,
   "metadata": {},
   "outputs": [],
   "source": [
    "newDf.drop(index =[pd.to_datetime('2011-05-03 17:26:00')],inplace=True)"
   ]
  },
  {
   "cell_type": "code",
   "execution_count": 26,
   "metadata": {},
   "outputs": [],
   "source": [
    "X = np.zeros((newDf.shape[0],29),dtype='O')\n",
    "for row,i in enumerate(newDf.index):\n",
    "    X[row,0]= i\n",
    "    for c in range(28):\n",
    "        X[row,c+1]= newDf.loc[newDf.index == i].values[0][0][c][0]"
   ]
  },
  {
   "cell_type": "code",
   "execution_count": 27,
   "metadata": {},
   "outputs": [],
   "source": [
    "df_last = pd.DataFrame(X)\n",
    "df_last.columns = [\"Time\"] + [\"ts{}\".format(i+1) for i in range(28)]"
   ]
  },
  {
   "cell_type": "code",
   "execution_count": 28,
   "metadata": {},
   "outputs": [],
   "source": [
    "df_last[\"Time\"] = pd.to_datetime(df_last[\"Time\"])\n",
    "L = [\"ts{}\".format(i+1) for i in range(28)]\n",
    "for c in L:\n",
    "    df_last[c]=df_last[c].astype(\"float\")"
   ]
  },
  {
   "cell_type": "code",
   "execution_count": 29,
   "metadata": {},
   "outputs": [],
   "source": [
    "df_last.index = df_last[\"Time\"]\n",
    "del df_last[\"Time\"]"
   ]
  },
  {
   "cell_type": "code",
   "execution_count": 30,
   "metadata": {},
   "outputs": [
    {
     "data": {
      "text/html": [
       "<div>\n",
       "<style scoped>\n",
       "    .dataframe tbody tr th:only-of-type {\n",
       "        vertical-align: middle;\n",
       "    }\n",
       "\n",
       "    .dataframe tbody tr th {\n",
       "        vertical-align: top;\n",
       "    }\n",
       "\n",
       "    .dataframe thead th {\n",
       "        text-align: right;\n",
       "    }\n",
       "</style>\n",
       "<table border=\"1\" class=\"dataframe\">\n",
       "  <thead>\n",
       "    <tr style=\"text-align: right;\">\n",
       "      <th></th>\n",
       "      <th>ts1</th>\n",
       "      <th>ts2</th>\n",
       "      <th>ts3</th>\n",
       "      <th>ts4</th>\n",
       "      <th>ts5</th>\n",
       "      <th>ts6</th>\n",
       "      <th>ts7</th>\n",
       "      <th>ts8</th>\n",
       "      <th>ts9</th>\n",
       "      <th>ts10</th>\n",
       "      <th>...</th>\n",
       "      <th>ts19</th>\n",
       "      <th>ts20</th>\n",
       "      <th>ts21</th>\n",
       "      <th>ts22</th>\n",
       "      <th>ts23</th>\n",
       "      <th>ts24</th>\n",
       "      <th>ts25</th>\n",
       "      <th>ts26</th>\n",
       "      <th>ts27</th>\n",
       "      <th>ts28</th>\n",
       "    </tr>\n",
       "    <tr>\n",
       "      <th>Time</th>\n",
       "      <th></th>\n",
       "      <th></th>\n",
       "      <th></th>\n",
       "      <th></th>\n",
       "      <th></th>\n",
       "      <th></th>\n",
       "      <th></th>\n",
       "      <th></th>\n",
       "      <th></th>\n",
       "      <th></th>\n",
       "      <th></th>\n",
       "      <th></th>\n",
       "      <th></th>\n",
       "      <th></th>\n",
       "      <th></th>\n",
       "      <th></th>\n",
       "      <th></th>\n",
       "      <th></th>\n",
       "      <th></th>\n",
       "      <th></th>\n",
       "      <th></th>\n",
       "    </tr>\n",
       "  </thead>\n",
       "  <tbody>\n",
       "    <tr>\n",
       "      <th>2005-01-03 12:18:00</th>\n",
       "      <td>4.55</td>\n",
       "      <td>4.52</td>\n",
       "      <td>4.59</td>\n",
       "      <td>4.56</td>\n",
       "      <td>4.57</td>\n",
       "      <td>4.57</td>\n",
       "      <td>4.52</td>\n",
       "      <td>4.52</td>\n",
       "      <td>4.57</td>\n",
       "      <td>4.60</td>\n",
       "      <td>...</td>\n",
       "      <td>4.68</td>\n",
       "      <td>4.70</td>\n",
       "      <td>4.70</td>\n",
       "      <td>4.70</td>\n",
       "      <td>4.70</td>\n",
       "      <td>4.73</td>\n",
       "      <td>4.75</td>\n",
       "      <td>4.75</td>\n",
       "      <td>4.78</td>\n",
       "      <td>4.80</td>\n",
       "    </tr>\n",
       "    <tr>\n",
       "      <th>2005-01-04 11:20:00</th>\n",
       "      <td>4.83</td>\n",
       "      <td>4.75</td>\n",
       "      <td>4.75</td>\n",
       "      <td>4.75</td>\n",
       "      <td>4.75</td>\n",
       "      <td>4.80</td>\n",
       "      <td>4.69</td>\n",
       "      <td>4.69</td>\n",
       "      <td>4.76</td>\n",
       "      <td>4.75</td>\n",
       "      <td>...</td>\n",
       "      <td>4.58</td>\n",
       "      <td>4.61</td>\n",
       "      <td>4.57</td>\n",
       "      <td>4.60</td>\n",
       "      <td>4.65</td>\n",
       "      <td>4.65</td>\n",
       "      <td>4.65</td>\n",
       "      <td>4.67</td>\n",
       "      <td>4.69</td>\n",
       "      <td>4.69</td>\n",
       "    </tr>\n",
       "    <tr>\n",
       "      <th>2005-01-05 17:28:00</th>\n",
       "      <td>4.68</td>\n",
       "      <td>4.68</td>\n",
       "      <td>4.62</td>\n",
       "      <td>4.66</td>\n",
       "      <td>4.68</td>\n",
       "      <td>4.67</td>\n",
       "      <td>4.68</td>\n",
       "      <td>4.68</td>\n",
       "      <td>4.70</td>\n",
       "      <td>4.66</td>\n",
       "      <td>...</td>\n",
       "      <td>4.65</td>\n",
       "      <td>4.65</td>\n",
       "      <td>4.65</td>\n",
       "      <td>4.65</td>\n",
       "      <td>4.61</td>\n",
       "      <td>4.61</td>\n",
       "      <td>4.60</td>\n",
       "      <td>4.60</td>\n",
       "      <td>4.60</td>\n",
       "      <td>4.60</td>\n",
       "    </tr>\n",
       "    <tr>\n",
       "      <th>2005-01-07 10:47:00</th>\n",
       "      <td>4.60</td>\n",
       "      <td>4.60</td>\n",
       "      <td>4.64</td>\n",
       "      <td>4.58</td>\n",
       "      <td>4.57</td>\n",
       "      <td>4.55</td>\n",
       "      <td>4.65</td>\n",
       "      <td>4.60</td>\n",
       "      <td>4.65</td>\n",
       "      <td>4.65</td>\n",
       "      <td>...</td>\n",
       "      <td>4.64</td>\n",
       "      <td>4.65</td>\n",
       "      <td>4.68</td>\n",
       "      <td>4.64</td>\n",
       "      <td>4.69</td>\n",
       "      <td>4.69</td>\n",
       "      <td>4.65</td>\n",
       "      <td>4.65</td>\n",
       "      <td>4.65</td>\n",
       "      <td>4.69</td>\n",
       "    </tr>\n",
       "    <tr>\n",
       "      <th>2005-01-11 15:14:00</th>\n",
       "      <td>4.70</td>\n",
       "      <td>4.70</td>\n",
       "      <td>4.70</td>\n",
       "      <td>4.70</td>\n",
       "      <td>4.70</td>\n",
       "      <td>4.60</td>\n",
       "      <td>4.68</td>\n",
       "      <td>4.68</td>\n",
       "      <td>4.60</td>\n",
       "      <td>4.68</td>\n",
       "      <td>...</td>\n",
       "      <td>4.55</td>\n",
       "      <td>4.57</td>\n",
       "      <td>4.56</td>\n",
       "      <td>4.57</td>\n",
       "      <td>4.57</td>\n",
       "      <td>4.57</td>\n",
       "      <td>4.57</td>\n",
       "      <td>4.57</td>\n",
       "      <td>4.57</td>\n",
       "      <td>4.56</td>\n",
       "    </tr>\n",
       "  </tbody>\n",
       "</table>\n",
       "<p>5 rows × 28 columns</p>\n",
       "</div>"
      ],
      "text/plain": [
       "                      ts1   ts2   ts3   ts4   ts5   ts6   ts7   ts8   ts9  \\\n",
       "Time                                                                        \n",
       "2005-01-03 12:18:00  4.55  4.52  4.59  4.56  4.57  4.57  4.52  4.52  4.57   \n",
       "2005-01-04 11:20:00  4.83  4.75  4.75  4.75  4.75  4.80  4.69  4.69  4.76   \n",
       "2005-01-05 17:28:00  4.68  4.68  4.62  4.66  4.68  4.67  4.68  4.68  4.70   \n",
       "2005-01-07 10:47:00  4.60  4.60  4.64  4.58  4.57  4.55  4.65  4.60  4.65   \n",
       "2005-01-11 15:14:00  4.70  4.70  4.70  4.70  4.70  4.60  4.68  4.68  4.60   \n",
       "\n",
       "                     ts10  ...  ts19  ts20  ts21  ts22  ts23  ts24  ts25  \\\n",
       "Time                       ...                                             \n",
       "2005-01-03 12:18:00  4.60  ...  4.68  4.70  4.70  4.70  4.70  4.73  4.75   \n",
       "2005-01-04 11:20:00  4.75  ...  4.58  4.61  4.57  4.60  4.65  4.65  4.65   \n",
       "2005-01-05 17:28:00  4.66  ...  4.65  4.65  4.65  4.65  4.61  4.61  4.60   \n",
       "2005-01-07 10:47:00  4.65  ...  4.64  4.65  4.68  4.64  4.69  4.69  4.65   \n",
       "2005-01-11 15:14:00  4.68  ...  4.55  4.57  4.56  4.57  4.57  4.57  4.57   \n",
       "\n",
       "                     ts26  ts27  ts28  \n",
       "Time                                   \n",
       "2005-01-03 12:18:00  4.75  4.78  4.80  \n",
       "2005-01-04 11:20:00  4.67  4.69  4.69  \n",
       "2005-01-05 17:28:00  4.60  4.60  4.60  \n",
       "2005-01-07 10:47:00  4.65  4.65  4.69  \n",
       "2005-01-11 15:14:00  4.57  4.57  4.56  \n",
       "\n",
       "[5 rows x 28 columns]"
      ]
     },
     "execution_count": 30,
     "metadata": {},
     "output_type": "execute_result"
    }
   ],
   "source": [
    "df_last.head()"
   ]
  },
  {
   "cell_type": "code",
   "execution_count": 31,
   "metadata": {},
   "outputs": [
    {
     "data": {
      "text/plain": [
       "(5591, 28)"
      ]
     },
     "execution_count": 31,
     "metadata": {},
     "output_type": "execute_result"
    }
   ],
   "source": [
    "df_last.shape"
   ]
  },
  {
   "cell_type": "markdown",
   "metadata": {},
   "source": [
    "## Analysis with discrete wavelet transform"
   ]
  },
  {
   "cell_type": "code",
   "execution_count": 32,
   "metadata": {},
   "outputs": [],
   "source": [
    "df_last_dwt = df_last.copy()"
   ]
  },
  {
   "cell_type": "code",
   "execution_count": 33,
   "metadata": {},
   "outputs": [],
   "source": [
    "for i in range(df_last_dwt.shape[0]):\n",
    "    cA, cD = pywt.dwt(df_last_dwt.loc[df_last_dwt.index == df_last_dwt.index[i]].values, 'db1')\n",
    "    C = np.concatenate((cA.T,cD.T),axis=0)\n",
    "    df_last_dwt.loc[df_last_dwt.index == df_last_dwt.index[i]] = C.T\n",
    "    "
   ]
  },
  {
   "cell_type": "code",
   "execution_count": 34,
   "metadata": {},
   "outputs": [
    {
     "data": {
      "text/plain": [
       "(5591, 28)"
      ]
     },
     "execution_count": 34,
     "metadata": {},
     "output_type": "execute_result"
    }
   ],
   "source": [
    "df_last_dwt.shape"
   ]
  },
  {
   "cell_type": "code",
   "execution_count": 35,
   "metadata": {},
   "outputs": [
    {
     "data": {
      "text/html": [
       "<div>\n",
       "<style scoped>\n",
       "    .dataframe tbody tr th:only-of-type {\n",
       "        vertical-align: middle;\n",
       "    }\n",
       "\n",
       "    .dataframe tbody tr th {\n",
       "        vertical-align: top;\n",
       "    }\n",
       "\n",
       "    .dataframe thead th {\n",
       "        text-align: right;\n",
       "    }\n",
       "</style>\n",
       "<table border=\"1\" class=\"dataframe\">\n",
       "  <thead>\n",
       "    <tr style=\"text-align: right;\">\n",
       "      <th></th>\n",
       "      <th>ts1</th>\n",
       "      <th>ts2</th>\n",
       "      <th>ts3</th>\n",
       "      <th>ts4</th>\n",
       "      <th>ts5</th>\n",
       "      <th>ts6</th>\n",
       "      <th>ts7</th>\n",
       "      <th>ts8</th>\n",
       "      <th>ts9</th>\n",
       "      <th>ts10</th>\n",
       "      <th>...</th>\n",
       "      <th>ts19</th>\n",
       "      <th>ts20</th>\n",
       "      <th>ts21</th>\n",
       "      <th>ts22</th>\n",
       "      <th>ts23</th>\n",
       "      <th>ts24</th>\n",
       "      <th>ts25</th>\n",
       "      <th>ts26</th>\n",
       "      <th>ts27</th>\n",
       "      <th>ts28</th>\n",
       "    </tr>\n",
       "    <tr>\n",
       "      <th>Time</th>\n",
       "      <th></th>\n",
       "      <th></th>\n",
       "      <th></th>\n",
       "      <th></th>\n",
       "      <th></th>\n",
       "      <th></th>\n",
       "      <th></th>\n",
       "      <th></th>\n",
       "      <th></th>\n",
       "      <th></th>\n",
       "      <th></th>\n",
       "      <th></th>\n",
       "      <th></th>\n",
       "      <th></th>\n",
       "      <th></th>\n",
       "      <th></th>\n",
       "      <th></th>\n",
       "      <th></th>\n",
       "      <th></th>\n",
       "      <th></th>\n",
       "      <th></th>\n",
       "    </tr>\n",
       "  </thead>\n",
       "  <tbody>\n",
       "    <tr>\n",
       "      <th>2005-01-03 12:18:00</th>\n",
       "      <td>6.413459</td>\n",
       "      <td>6.470027</td>\n",
       "      <td>6.462956</td>\n",
       "      <td>6.392245</td>\n",
       "      <td>6.484169</td>\n",
       "      <td>6.505382</td>\n",
       "      <td>6.547809</td>\n",
       "      <td>6.590235</td>\n",
       "      <td>6.632662</td>\n",
       "      <td>6.632661</td>\n",
       "      <td>...</td>\n",
       "      <td>-0.021213</td>\n",
       "      <td>0.000000</td>\n",
       "      <td>-0.098995</td>\n",
       "      <td>0.014142</td>\n",
       "      <td>0.000000</td>\n",
       "      <td>-0.014142</td>\n",
       "      <td>0.000000</td>\n",
       "      <td>-0.021213</td>\n",
       "      <td>0.000000</td>\n",
       "      <td>-0.014142</td>\n",
       "    </tr>\n",
       "    <tr>\n",
       "      <th>2005-01-04 11:20:00</th>\n",
       "      <td>6.774083</td>\n",
       "      <td>6.717514</td>\n",
       "      <td>6.752870</td>\n",
       "      <td>6.632662</td>\n",
       "      <td>6.724586</td>\n",
       "      <td>6.604377</td>\n",
       "      <td>6.583164</td>\n",
       "      <td>6.505382</td>\n",
       "      <td>6.491240</td>\n",
       "      <td>6.498311</td>\n",
       "      <td>...</td>\n",
       "      <td>0.007071</td>\n",
       "      <td>-0.042426</td>\n",
       "      <td>0.049498</td>\n",
       "      <td>0.000000</td>\n",
       "      <td>0.014142</td>\n",
       "      <td>-0.021213</td>\n",
       "      <td>-0.021213</td>\n",
       "      <td>0.000000</td>\n",
       "      <td>-0.014142</td>\n",
       "      <td>0.000000</td>\n",
       "    </tr>\n",
       "    <tr>\n",
       "      <th>2005-01-05 17:28:00</th>\n",
       "      <td>6.618519</td>\n",
       "      <td>6.561951</td>\n",
       "      <td>6.611448</td>\n",
       "      <td>6.618519</td>\n",
       "      <td>6.618519</td>\n",
       "      <td>6.618519</td>\n",
       "      <td>6.639733</td>\n",
       "      <td>6.561951</td>\n",
       "      <td>6.618519</td>\n",
       "      <td>6.576093</td>\n",
       "      <td>...</td>\n",
       "      <td>0.028284</td>\n",
       "      <td>-0.028284</td>\n",
       "      <td>-0.007071</td>\n",
       "      <td>-0.028284</td>\n",
       "      <td>-0.028284</td>\n",
       "      <td>0.000000</td>\n",
       "      <td>0.000000</td>\n",
       "      <td>0.000000</td>\n",
       "      <td>0.000000</td>\n",
       "      <td>0.000000</td>\n",
       "    </tr>\n",
       "  </tbody>\n",
       "</table>\n",
       "<p>3 rows × 28 columns</p>\n",
       "</div>"
      ],
      "text/plain": [
       "                          ts1       ts2       ts3       ts4       ts5  \\\n",
       "Time                                                                    \n",
       "2005-01-03 12:18:00  6.413459  6.470027  6.462956  6.392245  6.484169   \n",
       "2005-01-04 11:20:00  6.774083  6.717514  6.752870  6.632662  6.724586   \n",
       "2005-01-05 17:28:00  6.618519  6.561951  6.611448  6.618519  6.618519   \n",
       "\n",
       "                          ts6       ts7       ts8       ts9      ts10  ...  \\\n",
       "Time                                                                   ...   \n",
       "2005-01-03 12:18:00  6.505382  6.547809  6.590235  6.632662  6.632661  ...   \n",
       "2005-01-04 11:20:00  6.604377  6.583164  6.505382  6.491240  6.498311  ...   \n",
       "2005-01-05 17:28:00  6.618519  6.639733  6.561951  6.618519  6.576093  ...   \n",
       "\n",
       "                         ts19      ts20      ts21      ts22      ts23  \\\n",
       "Time                                                                    \n",
       "2005-01-03 12:18:00 -0.021213  0.000000 -0.098995  0.014142  0.000000   \n",
       "2005-01-04 11:20:00  0.007071 -0.042426  0.049498  0.000000  0.014142   \n",
       "2005-01-05 17:28:00  0.028284 -0.028284 -0.007071 -0.028284 -0.028284   \n",
       "\n",
       "                         ts24      ts25      ts26      ts27      ts28  \n",
       "Time                                                                   \n",
       "2005-01-03 12:18:00 -0.014142  0.000000 -0.021213  0.000000 -0.014142  \n",
       "2005-01-04 11:20:00 -0.021213 -0.021213  0.000000 -0.014142  0.000000  \n",
       "2005-01-05 17:28:00  0.000000  0.000000  0.000000  0.000000  0.000000  \n",
       "\n",
       "[3 rows x 28 columns]"
      ]
     },
     "execution_count": 35,
     "metadata": {},
     "output_type": "execute_result"
    }
   ],
   "source": [
    "df_last_dwt.head(3)"
   ]
  },
  {
   "cell_type": "code",
   "execution_count": 36,
   "metadata": {},
   "outputs": [
    {
     "data": {
      "text/html": [
       "<div>\n",
       "<style scoped>\n",
       "    .dataframe tbody tr th:only-of-type {\n",
       "        vertical-align: middle;\n",
       "    }\n",
       "\n",
       "    .dataframe tbody tr th {\n",
       "        vertical-align: top;\n",
       "    }\n",
       "\n",
       "    .dataframe thead th {\n",
       "        text-align: right;\n",
       "    }\n",
       "</style>\n",
       "<table border=\"1\" class=\"dataframe\">\n",
       "  <thead>\n",
       "    <tr style=\"text-align: right;\">\n",
       "      <th></th>\n",
       "      <th>ts1</th>\n",
       "      <th>ts2</th>\n",
       "      <th>ts3</th>\n",
       "      <th>ts4</th>\n",
       "      <th>ts5</th>\n",
       "      <th>ts6</th>\n",
       "      <th>ts7</th>\n",
       "      <th>ts8</th>\n",
       "      <th>ts9</th>\n",
       "      <th>ts10</th>\n",
       "      <th>...</th>\n",
       "      <th>ts19</th>\n",
       "      <th>ts20</th>\n",
       "      <th>ts21</th>\n",
       "      <th>ts22</th>\n",
       "      <th>ts23</th>\n",
       "      <th>ts24</th>\n",
       "      <th>ts25</th>\n",
       "      <th>ts26</th>\n",
       "      <th>ts27</th>\n",
       "      <th>ts28</th>\n",
       "    </tr>\n",
       "    <tr>\n",
       "      <th>Time</th>\n",
       "      <th></th>\n",
       "      <th></th>\n",
       "      <th></th>\n",
       "      <th></th>\n",
       "      <th></th>\n",
       "      <th></th>\n",
       "      <th></th>\n",
       "      <th></th>\n",
       "      <th></th>\n",
       "      <th></th>\n",
       "      <th></th>\n",
       "      <th></th>\n",
       "      <th></th>\n",
       "      <th></th>\n",
       "      <th></th>\n",
       "      <th></th>\n",
       "      <th></th>\n",
       "      <th></th>\n",
       "      <th></th>\n",
       "      <th></th>\n",
       "      <th></th>\n",
       "    </tr>\n",
       "  </thead>\n",
       "  <tbody>\n",
       "    <tr>\n",
       "      <th>2005-01-03 12:18:00</th>\n",
       "      <td>4.55</td>\n",
       "      <td>4.52</td>\n",
       "      <td>4.59</td>\n",
       "      <td>4.56</td>\n",
       "      <td>4.57</td>\n",
       "      <td>4.57</td>\n",
       "      <td>4.52</td>\n",
       "      <td>4.52</td>\n",
       "      <td>4.57</td>\n",
       "      <td>4.60</td>\n",
       "      <td>...</td>\n",
       "      <td>4.68</td>\n",
       "      <td>4.70</td>\n",
       "      <td>4.70</td>\n",
       "      <td>4.70</td>\n",
       "      <td>4.70</td>\n",
       "      <td>4.73</td>\n",
       "      <td>4.75</td>\n",
       "      <td>4.75</td>\n",
       "      <td>4.78</td>\n",
       "      <td>4.80</td>\n",
       "    </tr>\n",
       "    <tr>\n",
       "      <th>2005-01-04 11:20:00</th>\n",
       "      <td>4.83</td>\n",
       "      <td>4.75</td>\n",
       "      <td>4.75</td>\n",
       "      <td>4.75</td>\n",
       "      <td>4.75</td>\n",
       "      <td>4.80</td>\n",
       "      <td>4.69</td>\n",
       "      <td>4.69</td>\n",
       "      <td>4.76</td>\n",
       "      <td>4.75</td>\n",
       "      <td>...</td>\n",
       "      <td>4.58</td>\n",
       "      <td>4.61</td>\n",
       "      <td>4.57</td>\n",
       "      <td>4.60</td>\n",
       "      <td>4.65</td>\n",
       "      <td>4.65</td>\n",
       "      <td>4.65</td>\n",
       "      <td>4.67</td>\n",
       "      <td>4.69</td>\n",
       "      <td>4.69</td>\n",
       "    </tr>\n",
       "    <tr>\n",
       "      <th>2005-01-05 17:28:00</th>\n",
       "      <td>4.68</td>\n",
       "      <td>4.68</td>\n",
       "      <td>4.62</td>\n",
       "      <td>4.66</td>\n",
       "      <td>4.68</td>\n",
       "      <td>4.67</td>\n",
       "      <td>4.68</td>\n",
       "      <td>4.68</td>\n",
       "      <td>4.70</td>\n",
       "      <td>4.66</td>\n",
       "      <td>...</td>\n",
       "      <td>4.65</td>\n",
       "      <td>4.65</td>\n",
       "      <td>4.65</td>\n",
       "      <td>4.65</td>\n",
       "      <td>4.61</td>\n",
       "      <td>4.61</td>\n",
       "      <td>4.60</td>\n",
       "      <td>4.60</td>\n",
       "      <td>4.60</td>\n",
       "      <td>4.60</td>\n",
       "    </tr>\n",
       "  </tbody>\n",
       "</table>\n",
       "<p>3 rows × 28 columns</p>\n",
       "</div>"
      ],
      "text/plain": [
       "                      ts1   ts2   ts3   ts4   ts5   ts6   ts7   ts8   ts9  \\\n",
       "Time                                                                        \n",
       "2005-01-03 12:18:00  4.55  4.52  4.59  4.56  4.57  4.57  4.52  4.52  4.57   \n",
       "2005-01-04 11:20:00  4.83  4.75  4.75  4.75  4.75  4.80  4.69  4.69  4.76   \n",
       "2005-01-05 17:28:00  4.68  4.68  4.62  4.66  4.68  4.67  4.68  4.68  4.70   \n",
       "\n",
       "                     ts10  ...  ts19  ts20  ts21  ts22  ts23  ts24  ts25  \\\n",
       "Time                       ...                                             \n",
       "2005-01-03 12:18:00  4.60  ...  4.68  4.70  4.70  4.70  4.70  4.73  4.75   \n",
       "2005-01-04 11:20:00  4.75  ...  4.58  4.61  4.57  4.60  4.65  4.65  4.65   \n",
       "2005-01-05 17:28:00  4.66  ...  4.65  4.65  4.65  4.65  4.61  4.61  4.60   \n",
       "\n",
       "                     ts26  ts27  ts28  \n",
       "Time                                   \n",
       "2005-01-03 12:18:00  4.75  4.78  4.80  \n",
       "2005-01-04 11:20:00  4.67  4.69  4.69  \n",
       "2005-01-05 17:28:00  4.60  4.60  4.60  \n",
       "\n",
       "[3 rows x 28 columns]"
      ]
     },
     "execution_count": 36,
     "metadata": {},
     "output_type": "execute_result"
    }
   ],
   "source": [
    "df_last.head(3)"
   ]
  },
  {
   "cell_type": "code",
   "execution_count": 37,
   "metadata": {},
   "outputs": [],
   "source": [
    "X_std = df_last_dwt.copy()\n",
    "for c in X_std.columns:\n",
    "    scaler = StandardScaler()\n",
    "    scaler.fit(X_std[c].values.reshape(-1, 1))\n",
    "    X_std[c] = scaler.transform(X_std[c].values.reshape(-1, 1))\n",
    "    del scaler"
   ]
  },
  {
   "cell_type": "code",
   "execution_count": 38,
   "metadata": {},
   "outputs": [],
   "source": [
    "df_results=df_last.copy()"
   ]
  },
  {
   "cell_type": "markdown",
   "metadata": {},
   "source": [
    "### Isolation Forest"
   ]
  },
  {
   "cell_type": "code",
   "execution_count": 39,
   "metadata": {},
   "outputs": [
    {
     "data": {
      "text/plain": [
       "IsolationForest(behaviour='deprecated', bootstrap=False, contamination='auto',\n",
       "                max_features=1.0, max_samples='auto', n_estimators=300,\n",
       "                n_jobs=-1, random_state=None, verbose=0, warm_start=False)"
      ]
     },
     "execution_count": 39,
     "metadata": {},
     "output_type": "execute_result"
    }
   ],
   "source": [
    "algoDetector = IsolationForest(n_estimators=300,n_jobs=-1)\n",
    "algoDetector.fit(X_std)"
   ]
  },
  {
   "cell_type": "code",
   "execution_count": 40,
   "metadata": {},
   "outputs": [],
   "source": [
    "df_results[\"score_IF\"] = -algoDetector.score_samples(X_std)"
   ]
  },
  {
   "cell_type": "code",
   "execution_count": 43,
   "metadata": {},
   "outputs": [
    {
     "data": {
      "text/plain": [
       "Time\n",
       "2006-04-20 15:16:00    0.661357\n",
       "2006-04-04 13:55:00    0.653711\n",
       "2006-05-10 09:50:00    0.651782\n",
       "2006-04-07 17:36:00    0.642152\n",
       "2006-05-12 11:46:00    0.640619\n",
       "2006-03-03 16:29:00    0.639643\n",
       "2006-04-05 16:37:00    0.637441\n",
       "2006-05-09 09:14:00    0.634399\n",
       "2006-03-24 12:03:00    0.634187\n",
       "2006-04-05 15:05:00    0.633266\n",
       "2006-04-06 17:07:00    0.632036\n",
       "2006-03-21 12:59:00    0.630857\n",
       "2006-03-03 17:10:00    0.629801\n",
       "2006-04-05 10:55:00    0.627554\n",
       "2006-05-15 09:44:00    0.627546\n",
       "2006-03-17 16:53:00    0.626813\n",
       "2006-03-20 09:10:00    0.625899\n",
       "2006-04-19 17:17:00    0.624936\n",
       "2006-03-20 11:44:00    0.623663\n",
       "2006-04-10 14:55:00    0.622865\n",
       "Name: score_IF, dtype: float64"
      ]
     },
     "execution_count": 43,
     "metadata": {},
     "output_type": "execute_result"
    }
   ],
   "source": [
    "df_results.sort_values(\"score_IF\",ascending=False)[\"score_IF\"].head(20)"
   ]
  },
  {
   "cell_type": "markdown",
   "metadata": {},
   "source": [
    "### Deep auto encoder"
   ]
  },
  {
   "cell_type": "code",
   "execution_count": 44,
   "metadata": {},
   "outputs": [],
   "source": [
    "X_train, X_val = train_test_split(X_std, test_size=0.10)"
   ]
  },
  {
   "cell_type": "code",
   "execution_count": 49,
   "metadata": {},
   "outputs": [],
   "source": [
    "input_data = Input(shape=(28,))\n",
    "encoded = Dense(25, activation='relu')(input_data)\n",
    "encoded = Dense(20, activation='relu')(encoded)\n",
    "encoded = Dense(15, activation='relu')(encoded)\n",
    "encoded = Dense(10, activation='relu')(encoded)\n",
    "\n",
    "decoded = Dense(15, activation='relu')(encoded)\n",
    "decoded = Dense(20, activation='relu')(decoded)\n",
    "decoded = Dense(25, activation='relu')(decoded)\n",
    "decoded = Dense(28, activation=None)(decoded)"
   ]
  },
  {
   "cell_type": "code",
   "execution_count": 50,
   "metadata": {},
   "outputs": [],
   "source": [
    "autoencoder = Model(input_data, decoded)\n",
    "encoder = Model(input_data, encoded)\n",
    "autoencoder.compile(optimizer='adam', loss='mean_squared_error')"
   ]
  },
  {
   "cell_type": "code",
   "execution_count": 51,
   "metadata": {},
   "outputs": [],
   "source": [
    "callback_AE = [keras.callbacks.ReduceLROnPlateau(monitor='val_loss', factor=0.3, patience=60,verbose=1),\\\n",
    "                    keras.callbacks.ModelCheckpoint(filepath='TS_AE.h5',monitor='val_loss',save_best_only=True,\\\n",
    "                                                  save_weights_only=True,mode='min',verbose=1)]"
   ]
  },
  {
   "cell_type": "code",
   "execution_count": 52,
   "metadata": {},
   "outputs": [
    {
     "name": "stdout",
     "output_type": "stream",
     "text": [
      "Train on 5031 samples, validate on 560 samples\n",
      "Epoch 1/70\n",
      "5031/5031 [==============================] - 0s 64us/step - loss: 0.9942 - val_loss: 0.8884\n",
      "\n",
      "Epoch 00001: val_loss improved from inf to 0.88835, saving model to TS_AE.h5\n",
      "Epoch 2/70\n",
      "5031/5031 [==============================] - 0s 11us/step - loss: 0.8925 - val_loss: 0.7335\n",
      "\n",
      "Epoch 00002: val_loss improved from 0.88835 to 0.73351, saving model to TS_AE.h5\n",
      "Epoch 3/70\n",
      "5031/5031 [==============================] - 0s 12us/step - loss: 0.6866 - val_loss: 0.5739\n",
      "\n",
      "Epoch 00003: val_loss improved from 0.73351 to 0.57390, saving model to TS_AE.h5\n",
      "Epoch 4/70\n",
      "5031/5031 [==============================] - 0s 12us/step - loss: 0.5695 - val_loss: 0.5084\n",
      "\n",
      "Epoch 00004: val_loss improved from 0.57390 to 0.50845, saving model to TS_AE.h5\n",
      "Epoch 5/70\n",
      "5031/5031 [==============================] - 0s 11us/step - loss: 0.5197 - val_loss: 0.4821\n",
      "\n",
      "Epoch 00005: val_loss improved from 0.50845 to 0.48215, saving model to TS_AE.h5\n",
      "Epoch 6/70\n",
      "5031/5031 [==============================] - 0s 12us/step - loss: 0.5014 - val_loss: 0.4715\n",
      "\n",
      "Epoch 00006: val_loss improved from 0.48215 to 0.47148, saving model to TS_AE.h5\n",
      "Epoch 7/70\n",
      "5031/5031 [==============================] - 0s 11us/step - loss: 0.4918 - val_loss: 0.4635\n",
      "\n",
      "Epoch 00007: val_loss improved from 0.47148 to 0.46347, saving model to TS_AE.h5\n",
      "Epoch 8/70\n",
      "5031/5031 [==============================] - 0s 11us/step - loss: 0.4820 - val_loss: 0.4534\n",
      "\n",
      "Epoch 00008: val_loss improved from 0.46347 to 0.45336, saving model to TS_AE.h5\n",
      "Epoch 9/70\n",
      "5031/5031 [==============================] - 0s 11us/step - loss: 0.4719 - val_loss: 0.4450\n",
      "\n",
      "Epoch 00009: val_loss improved from 0.45336 to 0.44501, saving model to TS_AE.h5\n",
      "Epoch 10/70\n",
      "5031/5031 [==============================] - 0s 11us/step - loss: 0.4635 - val_loss: 0.4376\n",
      "\n",
      "Epoch 00010: val_loss improved from 0.44501 to 0.43756, saving model to TS_AE.h5\n",
      "Epoch 11/70\n",
      "5031/5031 [==============================] - 0s 11us/step - loss: 0.4555 - val_loss: 0.4304\n",
      "\n",
      "Epoch 00011: val_loss improved from 0.43756 to 0.43045, saving model to TS_AE.h5\n",
      "Epoch 12/70\n",
      "5031/5031 [==============================] - 0s 11us/step - loss: 0.4475 - val_loss: 0.4241\n",
      "\n",
      "Epoch 00012: val_loss improved from 0.43045 to 0.42410, saving model to TS_AE.h5\n",
      "Epoch 13/70\n",
      "5031/5031 [==============================] - 0s 10us/step - loss: 0.4396 - val_loss: 0.4166\n",
      "\n",
      "Epoch 00013: val_loss improved from 0.42410 to 0.41658, saving model to TS_AE.h5\n",
      "Epoch 14/70\n",
      "5031/5031 [==============================] - 0s 12us/step - loss: 0.4316 - val_loss: 0.4104\n",
      "\n",
      "Epoch 00014: val_loss improved from 0.41658 to 0.41040, saving model to TS_AE.h5\n",
      "Epoch 15/70\n",
      "5031/5031 [==============================] - 0s 11us/step - loss: 0.4226 - val_loss: 0.4028\n",
      "\n",
      "Epoch 00015: val_loss improved from 0.41040 to 0.40277, saving model to TS_AE.h5\n",
      "Epoch 16/70\n",
      "5031/5031 [==============================] - 0s 10us/step - loss: 0.4127 - val_loss: 0.3951\n",
      "\n",
      "Epoch 00016: val_loss improved from 0.40277 to 0.39506, saving model to TS_AE.h5\n",
      "Epoch 17/70\n",
      "5031/5031 [==============================] - 0s 11us/step - loss: 0.4021 - val_loss: 0.3832\n",
      "\n",
      "Epoch 00017: val_loss improved from 0.39506 to 0.38317, saving model to TS_AE.h5\n",
      "Epoch 18/70\n",
      "5031/5031 [==============================] - 0s 11us/step - loss: 0.3908 - val_loss: 0.3745\n",
      "\n",
      "Epoch 00018: val_loss improved from 0.38317 to 0.37448, saving model to TS_AE.h5\n",
      "Epoch 19/70\n",
      "5031/5031 [==============================] - 0s 10us/step - loss: 0.3800 - val_loss: 0.3656\n",
      "\n",
      "Epoch 00019: val_loss improved from 0.37448 to 0.36557, saving model to TS_AE.h5\n",
      "Epoch 20/70\n",
      "5031/5031 [==============================] - 0s 10us/step - loss: 0.3700 - val_loss: 0.3570\n",
      "\n",
      "Epoch 00020: val_loss improved from 0.36557 to 0.35697, saving model to TS_AE.h5\n",
      "Epoch 21/70\n",
      "5031/5031 [==============================] - 0s 10us/step - loss: 0.3606 - val_loss: 0.3483\n",
      "\n",
      "Epoch 00021: val_loss improved from 0.35697 to 0.34829, saving model to TS_AE.h5\n",
      "Epoch 22/70\n",
      "5031/5031 [==============================] - 0s 10us/step - loss: 0.3537 - val_loss: 0.3459\n",
      "\n",
      "Epoch 00022: val_loss improved from 0.34829 to 0.34587, saving model to TS_AE.h5\n",
      "Epoch 23/70\n",
      "5031/5031 [==============================] - 0s 11us/step - loss: 0.3483 - val_loss: 0.3409\n",
      "\n",
      "Epoch 00023: val_loss improved from 0.34587 to 0.34094, saving model to TS_AE.h5\n",
      "Epoch 24/70\n",
      "5031/5031 [==============================] - 0s 11us/step - loss: 0.3427 - val_loss: 0.3372\n",
      "\n",
      "Epoch 00024: val_loss improved from 0.34094 to 0.33716, saving model to TS_AE.h5\n",
      "Epoch 25/70\n",
      "5031/5031 [==============================] - 0s 10us/step - loss: 0.3386 - val_loss: 0.3353\n",
      "\n",
      "Epoch 00025: val_loss improved from 0.33716 to 0.33529, saving model to TS_AE.h5\n",
      "Epoch 26/70\n",
      "5031/5031 [==============================] - 0s 10us/step - loss: 0.3359 - val_loss: 0.3342\n",
      "\n",
      "Epoch 00026: val_loss improved from 0.33529 to 0.33419, saving model to TS_AE.h5\n",
      "Epoch 27/70\n",
      "5031/5031 [==============================] - 0s 11us/step - loss: 0.3338 - val_loss: 0.3297\n",
      "\n",
      "Epoch 00027: val_loss improved from 0.33419 to 0.32970, saving model to TS_AE.h5\n",
      "Epoch 28/70\n",
      "5031/5031 [==============================] - 0s 10us/step - loss: 0.3313 - val_loss: 0.3283\n",
      "\n",
      "Epoch 00028: val_loss improved from 0.32970 to 0.32829, saving model to TS_AE.h5\n",
      "Epoch 29/70\n",
      "5031/5031 [==============================] - 0s 10us/step - loss: 0.3290 - val_loss: 0.3272\n",
      "\n",
      "Epoch 00029: val_loss improved from 0.32829 to 0.32723, saving model to TS_AE.h5\n",
      "Epoch 30/70\n",
      "5031/5031 [==============================] - 0s 10us/step - loss: 0.3279 - val_loss: 0.3263\n",
      "\n",
      "Epoch 00030: val_loss improved from 0.32723 to 0.32632, saving model to TS_AE.h5\n",
      "Epoch 31/70\n",
      "5031/5031 [==============================] - 0s 9us/step - loss: 0.3274 - val_loss: 0.3259\n",
      "\n",
      "Epoch 00031: val_loss improved from 0.32632 to 0.32586, saving model to TS_AE.h5\n",
      "Epoch 32/70\n",
      "5031/5031 [==============================] - 0s 10us/step - loss: 0.3257 - val_loss: 0.3241\n",
      "\n",
      "Epoch 00032: val_loss improved from 0.32586 to 0.32405, saving model to TS_AE.h5\n",
      "Epoch 33/70\n",
      "5031/5031 [==============================] - 0s 10us/step - loss: 0.3240 - val_loss: 0.3250\n",
      "\n",
      "Epoch 00033: val_loss did not improve from 0.32405\n",
      "Epoch 34/70\n",
      "5031/5031 [==============================] - 0s 10us/step - loss: 0.3246 - val_loss: 0.3242\n",
      "\n",
      "Epoch 00034: val_loss did not improve from 0.32405\n",
      "Epoch 35/70\n",
      "5031/5031 [==============================] - 0s 10us/step - loss: 0.3225 - val_loss: 0.3236\n",
      "\n",
      "Epoch 00035: val_loss improved from 0.32405 to 0.32364, saving model to TS_AE.h5\n",
      "Epoch 36/70\n",
      "5031/5031 [==============================] - 0s 10us/step - loss: 0.3228 - val_loss: 0.3224\n",
      "\n",
      "Epoch 00036: val_loss improved from 0.32364 to 0.32237, saving model to TS_AE.h5\n",
      "Epoch 37/70\n",
      "5031/5031 [==============================] - 0s 10us/step - loss: 0.3205 - val_loss: 0.3216\n",
      "\n",
      "Epoch 00037: val_loss improved from 0.32237 to 0.32161, saving model to TS_AE.h5\n",
      "Epoch 38/70\n",
      "5031/5031 [==============================] - 0s 10us/step - loss: 0.3203 - val_loss: 0.3210\n",
      "\n",
      "Epoch 00038: val_loss improved from 0.32161 to 0.32098, saving model to TS_AE.h5\n",
      "Epoch 39/70\n",
      "5031/5031 [==============================] - 0s 11us/step - loss: 0.3191 - val_loss: 0.3212\n",
      "\n",
      "Epoch 00039: val_loss did not improve from 0.32098\n",
      "Epoch 40/70\n",
      "5031/5031 [==============================] - 0s 10us/step - loss: 0.3184 - val_loss: 0.3200\n",
      "\n",
      "Epoch 00040: val_loss improved from 0.32098 to 0.32002, saving model to TS_AE.h5\n",
      "Epoch 41/70\n",
      "5031/5031 [==============================] - 0s 10us/step - loss: 0.3176 - val_loss: 0.3191\n",
      "\n",
      "Epoch 00041: val_loss improved from 0.32002 to 0.31907, saving model to TS_AE.h5\n",
      "Epoch 42/70\n",
      "5031/5031 [==============================] - 0s 10us/step - loss: 0.3168 - val_loss: 0.3210\n",
      "\n",
      "Epoch 00042: val_loss did not improve from 0.31907\n",
      "Epoch 43/70\n",
      "5031/5031 [==============================] - 0s 10us/step - loss: 0.3162 - val_loss: 0.3209\n",
      "\n",
      "Epoch 00043: val_loss did not improve from 0.31907\n",
      "Epoch 44/70\n",
      "5031/5031 [==============================] - 0s 10us/step - loss: 0.3155 - val_loss: 0.3186\n",
      "\n",
      "Epoch 00044: val_loss improved from 0.31907 to 0.31862, saving model to TS_AE.h5\n",
      "Epoch 45/70\n",
      "5031/5031 [==============================] - 0s 10us/step - loss: 0.3147 - val_loss: 0.3190\n",
      "\n",
      "Epoch 00045: val_loss did not improve from 0.31862\n",
      "Epoch 46/70\n"
     ]
    },
    {
     "name": "stdout",
     "output_type": "stream",
     "text": [
      "5031/5031 [==============================] - 0s 9us/step - loss: 0.3141 - val_loss: 0.3192\n",
      "\n",
      "Epoch 00046: val_loss did not improve from 0.31862\n",
      "Epoch 47/70\n",
      "5031/5031 [==============================] - 0s 9us/step - loss: 0.3139 - val_loss: 0.3186\n",
      "\n",
      "Epoch 00047: val_loss improved from 0.31862 to 0.31862, saving model to TS_AE.h5\n",
      "Epoch 48/70\n",
      "5031/5031 [==============================] - 0s 9us/step - loss: 0.3134 - val_loss: 0.3193\n",
      "\n",
      "Epoch 00048: val_loss did not improve from 0.31862\n",
      "Epoch 49/70\n",
      "5031/5031 [==============================] - 0s 9us/step - loss: 0.3128 - val_loss: 0.3178\n",
      "\n",
      "Epoch 00049: val_loss improved from 0.31862 to 0.31784, saving model to TS_AE.h5\n",
      "Epoch 50/70\n",
      "5031/5031 [==============================] - 0s 9us/step - loss: 0.3119 - val_loss: 0.3195\n",
      "\n",
      "Epoch 00050: val_loss did not improve from 0.31784\n",
      "Epoch 51/70\n",
      "5031/5031 [==============================] - 0s 10us/step - loss: 0.3116 - val_loss: 0.3173\n",
      "\n",
      "Epoch 00051: val_loss improved from 0.31784 to 0.31735, saving model to TS_AE.h5\n",
      "Epoch 52/70\n",
      "5031/5031 [==============================] - 0s 10us/step - loss: 0.3106 - val_loss: 0.3183\n",
      "\n",
      "Epoch 00052: val_loss did not improve from 0.31735\n",
      "Epoch 53/70\n",
      "5031/5031 [==============================] - 0s 11us/step - loss: 0.3103 - val_loss: 0.3181\n",
      "\n",
      "Epoch 00053: val_loss did not improve from 0.31735\n",
      "Epoch 54/70\n",
      "5031/5031 [==============================] - 0s 11us/step - loss: 0.3094 - val_loss: 0.3175\n",
      "\n",
      "Epoch 00054: val_loss did not improve from 0.31735\n",
      "Epoch 55/70\n",
      "5031/5031 [==============================] - 0s 11us/step - loss: 0.3088 - val_loss: 0.3180\n",
      "\n",
      "Epoch 00055: val_loss did not improve from 0.31735\n",
      "Epoch 56/70\n",
      "5031/5031 [==============================] - 0s 10us/step - loss: 0.3081 - val_loss: 0.3191\n",
      "\n",
      "Epoch 00056: val_loss did not improve from 0.31735\n",
      "Epoch 57/70\n",
      "5031/5031 [==============================] - 0s 9us/step - loss: 0.3081 - val_loss: 0.3179\n",
      "\n",
      "Epoch 00057: val_loss did not improve from 0.31735\n",
      "Epoch 58/70\n",
      "5031/5031 [==============================] - 0s 9us/step - loss: 0.3074 - val_loss: 0.3167\n",
      "\n",
      "Epoch 00058: val_loss improved from 0.31735 to 0.31671, saving model to TS_AE.h5\n",
      "Epoch 59/70\n",
      "5031/5031 [==============================] - 0s 9us/step - loss: 0.3061 - val_loss: 0.3162\n",
      "\n",
      "Epoch 00059: val_loss improved from 0.31671 to 0.31617, saving model to TS_AE.h5\n",
      "Epoch 60/70\n",
      "5031/5031 [==============================] - 0s 9us/step - loss: 0.3062 - val_loss: 0.3169\n",
      "\n",
      "Epoch 00060: val_loss did not improve from 0.31617\n",
      "Epoch 61/70\n",
      "5031/5031 [==============================] - 0s 9us/step - loss: 0.3055 - val_loss: 0.3157\n",
      "\n",
      "Epoch 00061: val_loss improved from 0.31617 to 0.31567, saving model to TS_AE.h5\n",
      "Epoch 62/70\n",
      "5031/5031 [==============================] - 0s 9us/step - loss: 0.3051 - val_loss: 0.3165\n",
      "\n",
      "Epoch 00062: val_loss did not improve from 0.31567\n",
      "Epoch 63/70\n",
      "5031/5031 [==============================] - 0s 9us/step - loss: 0.3046 - val_loss: 0.3151\n",
      "\n",
      "Epoch 00063: val_loss improved from 0.31567 to 0.31506, saving model to TS_AE.h5\n",
      "Epoch 64/70\n",
      "5031/5031 [==============================] - 0s 9us/step - loss: 0.3044 - val_loss: 0.3171\n",
      "\n",
      "Epoch 00064: val_loss did not improve from 0.31506\n",
      "Epoch 65/70\n",
      "5031/5031 [==============================] - 0s 10us/step - loss: 0.3035 - val_loss: 0.3160\n",
      "\n",
      "Epoch 00065: val_loss did not improve from 0.31506\n",
      "Epoch 66/70\n",
      "5031/5031 [==============================] - 0s 9us/step - loss: 0.3032 - val_loss: 0.3153\n",
      "\n",
      "Epoch 00066: val_loss did not improve from 0.31506\n",
      "Epoch 67/70\n",
      "5031/5031 [==============================] - 0s 9us/step - loss: 0.3025 - val_loss: 0.3150\n",
      "\n",
      "Epoch 00067: val_loss improved from 0.31506 to 0.31503, saving model to TS_AE.h5\n",
      "Epoch 68/70\n",
      "5031/5031 [==============================] - 0s 9us/step - loss: 0.3024 - val_loss: 0.3156\n",
      "\n",
      "Epoch 00068: val_loss did not improve from 0.31503\n",
      "Epoch 69/70\n",
      "5031/5031 [==============================] - 0s 9us/step - loss: 0.3021 - val_loss: 0.3135\n",
      "\n",
      "Epoch 00069: val_loss improved from 0.31503 to 0.31346, saving model to TS_AE.h5\n",
      "Epoch 70/70\n",
      "5031/5031 [==============================] - 0s 9us/step - loss: 0.3010 - val_loss: 0.3130\n",
      "\n",
      "Epoch 00070: val_loss improved from 0.31346 to 0.31297, saving model to TS_AE.h5\n"
     ]
    }
   ],
   "source": [
    "history = autoencoder.fit(X_train, X_train,\n",
    "                epochs=70,\n",
    "                batch_size=256,\n",
    "                shuffle=True,\n",
    "                validation_data=(X_val, X_val),\n",
    "                callbacks=callback_AE)"
   ]
  },
  {
   "cell_type": "code",
   "execution_count": 53,
   "metadata": {},
   "outputs": [
    {
     "data": {
      "image/png": "[encoded data removed]",
      "text/plain": [
       "<Figure size 432x288 with 1 Axes>"
      ]
     },
     "metadata": {
      "needs_background": "light"
     },
     "output_type": "display_data"
    }
   ],
   "source": [
    "history_dict=history.history\n",
    "training_loss = history_dict['loss'][0:70:1]\n",
    "validation_loss = history_dict['val_loss'][0:70:1]\n",
    "epochs = range(0, 70,1)\n",
    "plt.plot(epochs, training_loss, 'bo', label='Training loss')\n",
    "plt.plot(epochs, validation_loss, 'b', label='Validation loss')\n",
    "plt.title('Loss')\n",
    "plt.xlabel('Epochs')\n",
    "plt.ylabel('Loss')\n",
    "plt.legend()\n",
    "plt.show()"
   ]
  },
  {
   "cell_type": "code",
   "execution_count": 54,
   "metadata": {},
   "outputs": [],
   "source": [
    "X_recons = autoencoder.predict(X_std)\n",
    "Error =X_std- X_recons\n",
    "df_results[\"score_AE\"] = ((Error)**2).sum(axis=1)"
   ]
  },
  {
   "cell_type": "code",
   "execution_count": 55,
   "metadata": {},
   "outputs": [
    {
     "data": {
      "text/plain": [
       "Time\n",
       "2007-03-14 09:12:00    405.244464\n",
       "2007-12-27 09:16:00    340.786005\n",
       "2008-06-30 09:10:00    252.883690\n",
       "2006-07-17 11:02:00    178.074629\n",
       "2006-06-09 09:12:00    167.447714\n",
       "2006-05-15 09:44:00    161.169377\n",
       "2006-03-03 16:29:00    155.690143\n",
       "2007-02-28 09:14:00    155.493165\n",
       "2006-05-10 09:50:00    139.755396\n",
       "2005-02-02 15:04:00    133.291862\n",
       "2006-05-23 09:19:00    127.448233\n",
       "2006-05-29 16:55:00    120.960870\n",
       "2006-05-30 09:54:00    113.041351\n",
       "2010-05-10 09:22:00    112.994266\n",
       "2007-01-19 09:02:00    110.481428\n",
       "2006-06-22 11:48:00    103.991440\n",
       "2006-05-31 09:04:00    100.138083\n",
       "2006-06-02 12:17:00     99.155063\n",
       "2006-02-21 16:09:00     96.871254\n",
       "2006-03-17 09:32:00     96.631312\n",
       "Name: score_AE, dtype: float64"
      ]
     },
     "execution_count": 55,
     "metadata": {},
     "output_type": "execute_result"
    }
   ],
   "source": [
    "df_results.sort_values(\"score_AE\",ascending=False)[\"score_AE\"].head(20)"
   ]
  },
  {
   "cell_type": "markdown",
   "metadata": {},
   "source": [
    "### KNN detector"
   ]
  },
  {
   "cell_type": "code",
   "execution_count": 56,
   "metadata": {},
   "outputs": [],
   "source": [
    "def knnDetector(df,k=50):\n",
    "    X = df.copy()\n",
    "    Y = X.index\n",
    "    knn = KNeighborsClassifier(n_neighbors=k,n_jobs=-1)\n",
    "    knn.fit(X_std, Y)\n",
    "    distances, _ = knn.kneighbors()\n",
    "    X[\"knn_score\"] = 0.0\n",
    "    for i in range(X.shape[0]):\n",
    "        X.loc[X.index[i],\"knn_score\"] = distances[i].mean()\n",
    "\n",
    "\n",
    "    return X[\"knn_score\"]"
   ]
  },
  {
   "cell_type": "code",
   "execution_count": 59,
   "metadata": {},
   "outputs": [],
   "source": [
    "df_results[\"knn_score\"]=knnDetector(X_std,k=100)"
   ]
  },
  {
   "cell_type": "code",
   "execution_count": 60,
   "metadata": {},
   "outputs": [
    {
     "data": {
      "text/plain": [
       "Time\n",
       "2007-02-28 09:14:00    47.537036\n",
       "2007-12-27 09:16:00    24.390216\n",
       "2006-03-03 16:29:00    21.807711\n",
       "2007-03-14 09:12:00    21.411272\n",
       "2008-06-30 09:10:00    19.223311\n",
       "2007-08-01 17:22:00    17.134287\n",
       "2006-06-09 09:12:00    16.511881\n",
       "2006-05-23 09:19:00    15.834616\n",
       "2006-07-17 11:02:00    15.403094\n",
       "2006-05-15 09:44:00    14.084190\n",
       "2006-05-30 09:54:00    13.835825\n",
       "2006-01-18 17:09:00    13.070709\n",
       "2006-05-10 09:50:00    12.738535\n",
       "2006-04-20 15:16:00    12.728126\n",
       "2006-07-31 17:06:00    12.646792\n",
       "2006-05-18 09:49:00    11.954767\n",
       "2006-06-14 16:51:00    11.657315\n",
       "2006-03-03 17:10:00    11.587043\n",
       "2006-05-29 16:55:00    11.493437\n",
       "2006-05-12 11:46:00    11.476622\n",
       "Name: knn_score, dtype: float64"
      ]
     },
     "execution_count": 60,
     "metadata": {},
     "output_type": "execute_result"
    }
   ],
   "source": [
    "df_results.sort_values(\"knn_score\",ascending=False)[\"knn_score\"].head(20)"
   ]
  },
  {
   "cell_type": "markdown",
   "metadata": {},
   "source": [
    "### Local outlier factor (LOF)"
   ]
  },
  {
   "cell_type": "code",
   "execution_count": 61,
   "metadata": {},
   "outputs": [
    {
     "data": {
      "text/plain": [
       "LocalOutlierFactor(algorithm='auto', contamination='auto', leaf_size=30,\n",
       "                   metric='minkowski', metric_params=None, n_jobs=None,\n",
       "                   n_neighbors=100, novelty=False, p=2)"
      ]
     },
     "execution_count": 61,
     "metadata": {},
     "output_type": "execute_result"
    }
   ],
   "source": [
    "LOF = LocalOutlierFactor(n_neighbors=100)\n",
    "LOF.fit(X_std)"
   ]
  },
  {
   "cell_type": "code",
   "execution_count": 62,
   "metadata": {},
   "outputs": [],
   "source": [
    "df_results[\"LOF_score\"] = - LOF.negative_outlier_factor_"
   ]
  },
  {
   "cell_type": "code",
   "execution_count": 63,
   "metadata": {},
   "outputs": [
    {
     "data": {
      "text/plain": [
       "Time\n",
       "2007-02-28 09:14:00    9.970785\n",
       "2007-12-27 09:16:00    6.390137\n",
       "2008-06-30 09:10:00    5.470712\n",
       "2007-03-14 09:12:00    4.830231\n",
       "2006-03-03 16:29:00    4.584368\n",
       "2007-08-01 17:22:00    4.207022\n",
       "2006-06-09 09:12:00    4.134316\n",
       "2006-05-23 09:19:00    4.116452\n",
       "2006-07-17 11:02:00    3.960488\n",
       "2008-01-24 09:23:00    3.756880\n",
       "2008-01-23 09:07:00    3.635231\n",
       "2006-01-18 17:09:00    3.523169\n",
       "2010-05-10 09:22:00    3.443550\n",
       "2006-05-15 09:44:00    3.405792\n",
       "2006-05-30 09:54:00    3.260516\n",
       "2005-04-15 14:17:00    3.237997\n",
       "2005-02-02 15:04:00    3.214858\n",
       "2006-07-31 17:06:00    3.179706\n",
       "2006-05-10 09:50:00    3.119960\n",
       "2006-03-03 17:10:00    3.113140\n",
       "Name: LOF_score, dtype: float64"
      ]
     },
     "execution_count": 63,
     "metadata": {},
     "output_type": "execute_result"
    }
   ],
   "source": [
    "df_results.sort_values(\"LOF_score\",ascending=False)[\"LOF_score\"].head(20)"
   ]
  },
  {
   "cell_type": "markdown",
   "metadata": {},
   "source": [
    "## Analysis with convolutional auto-encoder (without DWT)"
   ]
  },
  {
   "cell_type": "markdown",
   "metadata": {},
   "source": [
    "### 1D convolutional auto-encoder"
   ]
  },
  {
   "cell_type": "code",
   "execution_count": 64,
   "metadata": {},
   "outputs": [
    {
     "name": "stdout",
     "output_type": "stream",
     "text": [
      "(5031, 28, 1)\n",
      "(560, 28, 1)\n"
     ]
    }
   ],
   "source": [
    "X_train, X_val = train_test_split(df_last, test_size=0.10)\n",
    "X_train=X_train.values.reshape(X_train.shape[0],X_train.shape[1],1)\n",
    "X_val=X_val.values.reshape(X_val.shape[0],X_val.shape[1],1)\n",
    "print(X_train.shape)\n",
    "print(X_val.shape)"
   ]
  },
  {
   "cell_type": "code",
   "execution_count": 67,
   "metadata": {},
   "outputs": [],
   "source": [
    "input_data1D = Input((28,1))\n",
    "encoded1D = Conv1D(32, 3, activation='relu')(input_data1D)\n",
    "encoded1D = MaxPooling1D(2)(encoded1D)\n",
    "encoded1D = Conv1D(64, 3, activation='relu')(encoded1D)\n",
    "encoded1D = MaxPooling1D(2)(encoded1D)\n",
    "encoded1D = Conv1D(64, 3, activation='relu')(encoded1D)\n",
    "encoded1D = Flatten()(encoded1D)\n",
    "encoded1D = Dense(49, activation='relu')(encoded1D)\n",
    "decoded1D = Reshape((7,7))(encoded1D)\n",
    "\n",
    "decoded1D = Conv1D(64,3, activation='relu', padding='same')(decoded1D)\n",
    "decoded1D = UpSampling1D(2)(decoded1D)\n",
    "decoded1D = Conv1D(64,3, activation='relu', padding='same')(decoded1D)\n",
    "decoded1D = UpSampling1D(2)(decoded1D)\n",
    "decoded1D = Conv1D(32,3, activation='relu', padding='same')(decoded1D)\n",
    "decoded1D = Conv1D(1,3, activation=None, padding='same')(decoded1D)\n",
    "autoencoder1D = Model(input_data1D, decoded1D)\n",
    "autoencoder1D.compile(optimizer='adam', loss='mean_squared_error')\n"
   ]
  },
  {
   "cell_type": "code",
   "execution_count": 68,
   "metadata": {},
   "outputs": [
    {
     "name": "stdout",
     "output_type": "stream",
     "text": [
      "Model: \"model_5\"\n",
      "_________________________________________________________________\n",
      "Layer (type)                 Output Shape              Param #   \n",
      "=================================================================\n",
      "input_5 (InputLayer)         (None, 28, 1)             0         \n",
      "_________________________________________________________________\n",
      "conv1d_3 (Conv1D)            (None, 26, 32)            128       \n",
      "_________________________________________________________________\n",
      "max_pooling1d_2 (MaxPooling1 (None, 13, 32)            0         \n",
      "_________________________________________________________________\n",
      "conv1d_4 (Conv1D)            (None, 11, 64)            6208      \n",
      "_________________________________________________________________\n",
      "max_pooling1d_3 (MaxPooling1 (None, 5, 64)             0         \n",
      "_________________________________________________________________\n",
      "conv1d_5 (Conv1D)            (None, 3, 64)             12352     \n",
      "_________________________________________________________________\n",
      "flatten_1 (Flatten)          (None, 192)               0         \n",
      "_________________________________________________________________\n",
      "dense_17 (Dense)             (None, 49)                9457      \n",
      "_________________________________________________________________\n",
      "reshape_1 (Reshape)          (None, 7, 7)              0         \n",
      "_________________________________________________________________\n",
      "conv1d_6 (Conv1D)            (None, 7, 64)             1408      \n",
      "_________________________________________________________________\n",
      "up_sampling1d_1 (UpSampling1 (None, 14, 64)            0         \n",
      "_________________________________________________________________\n",
      "conv1d_7 (Conv1D)            (None, 14, 64)            12352     \n",
      "_________________________________________________________________\n",
      "up_sampling1d_2 (UpSampling1 (None, 28, 64)            0         \n",
      "_________________________________________________________________\n",
      "conv1d_8 (Conv1D)            (None, 28, 32)            6176      \n",
      "_________________________________________________________________\n",
      "conv1d_9 (Conv1D)            (None, 28, 1)             97        \n",
      "=================================================================\n",
      "Total params: 48,178\n",
      "Trainable params: 48,178\n",
      "Non-trainable params: 0\n",
      "_________________________________________________________________\n"
     ]
    }
   ],
   "source": [
    "autoencoder1D.summary()"
   ]
  },
  {
   "cell_type": "code",
   "execution_count": 69,
   "metadata": {},
   "outputs": [],
   "source": [
    "callback_Conv1DAE = [keras.callbacks.ReduceLROnPlateau(monitor='val_loss', factor=0.3, patience=60,verbose=1),\\\n",
    "                    keras.callbacks.ModelCheckpoint(filepath='Conv_1DAE_DIOR.h5',monitor='val_loss',save_best_only=True,\\\n",
    "                                                  save_weights_only=True,mode='min',verbose=1)]\n"
   ]
  },
  {
   "cell_type": "code",
   "execution_count": 70,
   "metadata": {
    "scrolled": true
   },
   "outputs": [
    {
     "name": "stdout",
     "output_type": "stream",
     "text": [
      "Train on 5031 samples, validate on 560 samples\n",
      "Epoch 1/70\n",
      "5031/5031 [==============================] - 2s 339us/step - loss: 15.6299 - val_loss: 1.3237\n",
      "\n",
      "Epoch 00001: val_loss improved from inf to 1.32372, saving model to Conv_1DAE_DIOR.h5\n",
      "Epoch 2/70\n",
      "5031/5031 [==============================] - 1s 133us/step - loss: 1.3455 - val_loss: 0.6838\n",
      "\n",
      "Epoch 00002: val_loss improved from 1.32372 to 0.68380, saving model to Conv_1DAE_DIOR.h5\n",
      "Epoch 3/70\n",
      "5031/5031 [==============================] - 1s 133us/step - loss: 0.3505 - val_loss: 0.1582\n",
      "\n",
      "Epoch 00003: val_loss improved from 0.68380 to 0.15817, saving model to Conv_1DAE_DIOR.h5\n",
      "Epoch 4/70\n",
      "5031/5031 [==============================] - 1s 132us/step - loss: 0.1081 - val_loss: 0.0627\n",
      "\n",
      "Epoch 00004: val_loss improved from 0.15817 to 0.06268, saving model to Conv_1DAE_DIOR.h5\n",
      "Epoch 5/70\n",
      "5031/5031 [==============================] - 1s 139us/step - loss: 0.0458 - val_loss: 0.0302\n",
      "\n",
      "Epoch 00005: val_loss improved from 0.06268 to 0.03020, saving model to Conv_1DAE_DIOR.h5\n",
      "Epoch 6/70\n",
      "5031/5031 [==============================] - 1s 138us/step - loss: 0.0244 - val_loss: 0.0168\n",
      "\n",
      "Epoch 00006: val_loss improved from 0.03020 to 0.01685, saving model to Conv_1DAE_DIOR.h5\n",
      "Epoch 7/70\n",
      "5031/5031 [==============================] - 1s 134us/step - loss: 0.0154 - val_loss: 0.0115\n",
      "\n",
      "Epoch 00007: val_loss improved from 0.01685 to 0.01147, saving model to Conv_1DAE_DIOR.h5\n",
      "Epoch 8/70\n",
      "5031/5031 [==============================] - 1s 144us/step - loss: 0.0108 - val_loss: 0.0083\n",
      "\n",
      "Epoch 00008: val_loss improved from 0.01147 to 0.00830, saving model to Conv_1DAE_DIOR.h5\n",
      "Epoch 9/70\n",
      "5031/5031 [==============================] - 1s 141us/step - loss: 0.0078 - val_loss: 0.0060\n",
      "\n",
      "Epoch 00009: val_loss improved from 0.00830 to 0.00600, saving model to Conv_1DAE_DIOR.h5\n",
      "Epoch 10/70\n",
      "5031/5031 [==============================] - 1s 134us/step - loss: 0.0058 - val_loss: 0.0045\n",
      "\n",
      "Epoch 00010: val_loss improved from 0.00600 to 0.00450, saving model to Conv_1DAE_DIOR.h5\n",
      "Epoch 11/70\n",
      "5031/5031 [==============================] - 1s 132us/step - loss: 0.0044 - val_loss: 0.0034\n",
      "\n",
      "Epoch 00011: val_loss improved from 0.00450 to 0.00339, saving model to Conv_1DAE_DIOR.h5\n",
      "Epoch 12/70\n",
      "5031/5031 [==============================] - 1s 132us/step - loss: 0.0034 - val_loss: 0.0027\n",
      "\n",
      "Epoch 00012: val_loss improved from 0.00339 to 0.00271, saving model to Conv_1DAE_DIOR.h5\n",
      "Epoch 13/70\n",
      "5031/5031 [==============================] - 1s 129us/step - loss: 0.0028 - val_loss: 0.0023\n",
      "\n",
      "Epoch 00013: val_loss improved from 0.00271 to 0.00228, saving model to Conv_1DAE_DIOR.h5\n",
      "Epoch 14/70\n",
      "5031/5031 [==============================] - 1s 130us/step - loss: 0.0024 - val_loss: 0.0020\n",
      "\n",
      "Epoch 00014: val_loss improved from 0.00228 to 0.00201, saving model to Conv_1DAE_DIOR.h5\n",
      "Epoch 15/70\n",
      "5031/5031 [==============================] - 1s 137us/step - loss: 0.0022 - val_loss: 0.0018\n",
      "\n",
      "Epoch 00015: val_loss improved from 0.00201 to 0.00183, saving model to Conv_1DAE_DIOR.h5\n",
      "Epoch 16/70\n",
      "5031/5031 [==============================] - 1s 132us/step - loss: 0.0021 - val_loss: 0.0017\n",
      "\n",
      "Epoch 00016: val_loss improved from 0.00183 to 0.00175, saving model to Conv_1DAE_DIOR.h5\n",
      "Epoch 17/70\n",
      "5031/5031 [==============================] - 1s 132us/step - loss: 0.0020 - val_loss: 0.0017\n",
      "\n",
      "Epoch 00017: val_loss improved from 0.00175 to 0.00169, saving model to Conv_1DAE_DIOR.h5\n",
      "Epoch 18/70\n",
      "5031/5031 [==============================] - 1s 133us/step - loss: 0.0019 - val_loss: 0.0017\n",
      "\n",
      "Epoch 00018: val_loss improved from 0.00169 to 0.00167, saving model to Conv_1DAE_DIOR.h5\n",
      "Epoch 19/70\n",
      "5031/5031 [==============================] - 1s 133us/step - loss: 0.0019 - val_loss: 0.0016\n",
      "\n",
      "Epoch 00019: val_loss improved from 0.00167 to 0.00164, saving model to Conv_1DAE_DIOR.h5\n",
      "Epoch 20/70\n",
      "5031/5031 [==============================] - 1s 133us/step - loss: 0.0019 - val_loss: 0.0016\n",
      "\n",
      "Epoch 00020: val_loss improved from 0.00164 to 0.00163, saving model to Conv_1DAE_DIOR.h5\n",
      "Epoch 21/70\n",
      "5031/5031 [==============================] - 1s 132us/step - loss: 0.0019 - val_loss: 0.0016\n",
      "\n",
      "Epoch 00021: val_loss improved from 0.00163 to 0.00163, saving model to Conv_1DAE_DIOR.h5\n",
      "Epoch 22/70\n",
      "5031/5031 [==============================] - 1s 133us/step - loss: 0.0019 - val_loss: 0.0016\n",
      "\n",
      "Epoch 00022: val_loss improved from 0.00163 to 0.00161, saving model to Conv_1DAE_DIOR.h5\n",
      "Epoch 23/70\n",
      "5031/5031 [==============================] - 1s 134us/step - loss: 0.0019 - val_loss: 0.0016\n",
      "\n",
      "Epoch 00023: val_loss did not improve from 0.00161\n",
      "Epoch 24/70\n",
      "5031/5031 [==============================] - 1s 143us/step - loss: 0.0019 - val_loss: 0.0016\n",
      "\n",
      "Epoch 00024: val_loss improved from 0.00161 to 0.00159, saving model to Conv_1DAE_DIOR.h5\n",
      "Epoch 25/70\n",
      "5031/5031 [==============================] - 1s 138us/step - loss: 0.0019 - val_loss: 0.0016\n",
      "\n",
      "Epoch 00025: val_loss did not improve from 0.00159\n",
      "Epoch 26/70\n",
      "5031/5031 [==============================] - 1s 136us/step - loss: 0.0018 - val_loss: 0.0016\n",
      "\n",
      "Epoch 00026: val_loss did not improve from 0.00159\n",
      "Epoch 27/70\n",
      "5031/5031 [==============================] - 1s 137us/step - loss: 0.0018 - val_loss: 0.0016\n",
      "\n",
      "Epoch 00027: val_loss did not improve from 0.00159\n",
      "Epoch 28/70\n",
      "5031/5031 [==============================] - 1s 137us/step - loss: 0.0018 - val_loss: 0.0016\n",
      "\n",
      "Epoch 00028: val_loss improved from 0.00159 to 0.00158, saving model to Conv_1DAE_DIOR.h5\n",
      "Epoch 29/70\n",
      "5031/5031 [==============================] - 1s 133us/step - loss: 0.0018 - val_loss: 0.0016\n",
      "\n",
      "Epoch 00029: val_loss did not improve from 0.00158\n",
      "Epoch 30/70\n",
      "5031/5031 [==============================] - 1s 135us/step - loss: 0.0018 - val_loss: 0.0016\n",
      "\n",
      "Epoch 00030: val_loss improved from 0.00158 to 0.00158, saving model to Conv_1DAE_DIOR.h5\n",
      "Epoch 31/70\n",
      "5031/5031 [==============================] - 1s 133us/step - loss: 0.0018 - val_loss: 0.0016\n",
      "\n",
      "Epoch 00031: val_loss did not improve from 0.00158\n",
      "Epoch 32/70\n",
      "5031/5031 [==============================] - 1s 135us/step - loss: 0.0018 - val_loss: 0.0016\n",
      "\n",
      "Epoch 00032: val_loss improved from 0.00158 to 0.00157, saving model to Conv_1DAE_DIOR.h5\n",
      "Epoch 33/70\n",
      "5031/5031 [==============================] - 1s 140us/step - loss: 0.0018 - val_loss: 0.0016\n",
      "\n",
      "Epoch 00033: val_loss did not improve from 0.00157\n",
      "Epoch 34/70\n",
      "5031/5031 [==============================] - 1s 137us/step - loss: 0.0018 - val_loss: 0.0016\n",
      "\n",
      "Epoch 00034: val_loss improved from 0.00157 to 0.00156, saving model to Conv_1DAE_DIOR.h5\n",
      "Epoch 35/70\n",
      "5031/5031 [==============================] - 1s 140us/step - loss: 0.0018 - val_loss: 0.0016\n",
      "\n",
      "Epoch 00035: val_loss did not improve from 0.00156\n",
      "Epoch 36/70\n",
      "5031/5031 [==============================] - 1s 138us/step - loss: 0.0018 - val_loss: 0.0016\n",
      "\n",
      "Epoch 00036: val_loss did not improve from 0.00156\n",
      "Epoch 37/70\n",
      "5031/5031 [==============================] - 1s 141us/step - loss: 0.0018 - val_loss: 0.0016\n",
      "\n",
      "Epoch 00037: val_loss improved from 0.00156 to 0.00156, saving model to Conv_1DAE_DIOR.h5\n",
      "Epoch 38/70\n",
      "5031/5031 [==============================] - 1s 143us/step - loss: 0.0018 - val_loss: 0.0016\n",
      "\n",
      "Epoch 00038: val_loss improved from 0.00156 to 0.00155, saving model to Conv_1DAE_DIOR.h5\n",
      "Epoch 39/70\n",
      "5031/5031 [==============================] - 1s 133us/step - loss: 0.0018 - val_loss: 0.0016\n",
      "\n",
      "Epoch 00039: val_loss did not improve from 0.00155\n",
      "Epoch 40/70\n",
      "5031/5031 [==============================] - 1s 135us/step - loss: 0.0018 - val_loss: 0.0016\n",
      "\n",
      "Epoch 00040: val_loss did not improve from 0.00155\n",
      "Epoch 41/70\n",
      "5031/5031 [==============================] - 1s 136us/step - loss: 0.0018 - val_loss: 0.0015\n",
      "\n",
      "Epoch 00041: val_loss improved from 0.00155 to 0.00154, saving model to Conv_1DAE_DIOR.h5\n",
      "Epoch 42/70\n",
      "5031/5031 [==============================] - 1s 131us/step - loss: 0.0018 - val_loss: 0.0015\n",
      "\n",
      "Epoch 00042: val_loss improved from 0.00154 to 0.00154, saving model to Conv_1DAE_DIOR.h5\n",
      "Epoch 43/70\n",
      "5031/5031 [==============================] - 1s 130us/step - loss: 0.0018 - val_loss: 0.0016\n",
      "\n",
      "Epoch 00043: val_loss did not improve from 0.00154\n",
      "Epoch 44/70\n",
      "5031/5031 [==============================] - 1s 131us/step - loss: 0.0018 - val_loss: 0.0015\n",
      "\n",
      "Epoch 00044: val_loss did not improve from 0.00154\n",
      "Epoch 45/70\n"
     ]
    },
    {
     "name": "stdout",
     "output_type": "stream",
     "text": [
      "5031/5031 [==============================] - 1s 132us/step - loss: 0.0018 - val_loss: 0.0015\n",
      "\n",
      "Epoch 00045: val_loss improved from 0.00154 to 0.00153, saving model to Conv_1DAE_DIOR.h5\n",
      "Epoch 46/70\n",
      "5031/5031 [==============================] - 1s 131us/step - loss: 0.0018 - val_loss: 0.0015\n",
      "\n",
      "Epoch 00046: val_loss did not improve from 0.00153\n",
      "Epoch 47/70\n",
      "5031/5031 [==============================] - 1s 130us/step - loss: 0.0018 - val_loss: 0.0015\n",
      "\n",
      "Epoch 00047: val_loss did not improve from 0.00153\n",
      "Epoch 48/70\n",
      "5031/5031 [==============================] - 1s 132us/step - loss: 0.0018 - val_loss: 0.0016\n",
      "\n",
      "Epoch 00048: val_loss did not improve from 0.00153\n",
      "Epoch 49/70\n",
      "5031/5031 [==============================] - 1s 132us/step - loss: 0.0018 - val_loss: 0.0016\n",
      "\n",
      "Epoch 00049: val_loss did not improve from 0.00153\n",
      "Epoch 50/70\n",
      "5031/5031 [==============================] - 1s 131us/step - loss: 0.0018 - val_loss: 0.0015\n",
      "\n",
      "Epoch 00050: val_loss did not improve from 0.00153\n",
      "Epoch 51/70\n",
      "5031/5031 [==============================] - 1s 140us/step - loss: 0.0018 - val_loss: 0.0016\n",
      "\n",
      "Epoch 00051: val_loss did not improve from 0.00153\n",
      "Epoch 52/70\n",
      "5031/5031 [==============================] - 1s 137us/step - loss: 0.0018 - val_loss: 0.0016\n",
      "\n",
      "Epoch 00052: val_loss did not improve from 0.00153\n",
      "Epoch 53/70\n",
      "5031/5031 [==============================] - 1s 137us/step - loss: 0.0018 - val_loss: 0.0015\n",
      "\n",
      "Epoch 00053: val_loss improved from 0.00153 to 0.00152, saving model to Conv_1DAE_DIOR.h5\n",
      "Epoch 54/70\n",
      "5031/5031 [==============================] - 1s 147us/step - loss: 0.0018 - val_loss: 0.0015\n",
      "\n",
      "Epoch 00054: val_loss did not improve from 0.00152\n",
      "Epoch 55/70\n",
      "5031/5031 [==============================] - 1s 138us/step - loss: 0.0017 - val_loss: 0.0015\n",
      "\n",
      "Epoch 00055: val_loss did not improve from 0.00152\n",
      "Epoch 56/70\n",
      "5031/5031 [==============================] - 1s 147us/step - loss: 0.0018 - val_loss: 0.0015\n",
      "\n",
      "Epoch 00056: val_loss improved from 0.00152 to 0.00152, saving model to Conv_1DAE_DIOR.h5\n",
      "Epoch 57/70\n",
      "5031/5031 [==============================] - 1s 139us/step - loss: 0.0017 - val_loss: 0.0015\n",
      "\n",
      "Epoch 00057: val_loss improved from 0.00152 to 0.00151, saving model to Conv_1DAE_DIOR.h5\n",
      "Epoch 58/70\n",
      "5031/5031 [==============================] - 1s 143us/step - loss: 0.0018 - val_loss: 0.0015\n",
      "\n",
      "Epoch 00058: val_loss improved from 0.00151 to 0.00150, saving model to Conv_1DAE_DIOR.h5\n",
      "Epoch 59/70\n",
      "5031/5031 [==============================] - 1s 143us/step - loss: 0.0017 - val_loss: 0.0015\n",
      "\n",
      "Epoch 00059: val_loss improved from 0.00150 to 0.00149, saving model to Conv_1DAE_DIOR.h5\n",
      "Epoch 60/70\n",
      "5031/5031 [==============================] - 1s 145us/step - loss: 0.0017 - val_loss: 0.0015\n",
      "\n",
      "Epoch 00060: val_loss did not improve from 0.00149\n",
      "Epoch 61/70\n",
      "5031/5031 [==============================] - 1s 149us/step - loss: 0.0017 - val_loss: 0.0015\n",
      "\n",
      "Epoch 00061: val_loss did not improve from 0.00149\n",
      "Epoch 62/70\n",
      "5031/5031 [==============================] - 1s 145us/step - loss: 0.0018 - val_loss: 0.0016\n",
      "\n",
      "Epoch 00062: val_loss did not improve from 0.00149\n",
      "Epoch 63/70\n",
      "5031/5031 [==============================] - 1s 142us/step - loss: 0.0018 - val_loss: 0.0015\n",
      "\n",
      "Epoch 00063: val_loss did not improve from 0.00149\n",
      "Epoch 64/70\n",
      "5031/5031 [==============================] - 1s 145us/step - loss: 0.0017 - val_loss: 0.0015\n",
      "\n",
      "Epoch 00064: val_loss did not improve from 0.00149\n",
      "Epoch 65/70\n",
      "5031/5031 [==============================] - 1s 142us/step - loss: 0.0018 - val_loss: 0.0015\n",
      "\n",
      "Epoch 00065: val_loss did not improve from 0.00149\n",
      "Epoch 66/70\n",
      "5031/5031 [==============================] - 1s 140us/step - loss: 0.0017 - val_loss: 0.0015\n",
      "\n",
      "Epoch 00066: val_loss improved from 0.00149 to 0.00149, saving model to Conv_1DAE_DIOR.h5\n",
      "Epoch 67/70\n",
      "5031/5031 [==============================] - 1s 142us/step - loss: 0.0017 - val_loss: 0.0015\n",
      "\n",
      "Epoch 00067: val_loss improved from 0.00149 to 0.00147, saving model to Conv_1DAE_DIOR.h5\n",
      "Epoch 68/70\n",
      "5031/5031 [==============================] - 1s 143us/step - loss: 0.0017 - val_loss: 0.0015\n",
      "\n",
      "Epoch 00068: val_loss did not improve from 0.00147\n",
      "Epoch 69/70\n",
      "5031/5031 [==============================] - 1s 158us/step - loss: 0.0018 - val_loss: 0.0016\n",
      "\n",
      "Epoch 00069: val_loss did not improve from 0.00147\n",
      "Epoch 70/70\n",
      "5031/5031 [==============================] - 1s 151us/step - loss: 0.0018 - val_loss: 0.0015\n",
      "\n",
      "Epoch 00070: val_loss did not improve from 0.00147\n"
     ]
    }
   ],
   "source": [
    "history1D = autoencoder1D.fit(X_train, X_train,\n",
    "                epochs=70,\n",
    "                batch_size=256,\n",
    "                shuffle=True,\n",
    "                validation_data=(X_val, X_val),\n",
    "                callbacks=callback_Conv1DAE)"
   ]
  },
  {
   "cell_type": "code",
   "execution_count": 71,
   "metadata": {},
   "outputs": [
    {
     "data": {
      "image/png": "[encoded data removed]",
      "text/plain": [
       "<Figure size 432x288 with 1 Axes>"
      ]
     },
     "metadata": {
      "needs_background": "light"
     },
     "output_type": "display_data"
    }
   ],
   "source": [
    "history_dict=history1D.history\n",
    "training_loss = history_dict['loss'][0:70:1]\n",
    "validation_loss = history_dict['val_loss'][0:70:1]\n",
    "epochs = range(0, 70,1)\n",
    "plt.plot(epochs, training_loss, 'bo', label='Training loss')\n",
    "plt.plot(epochs, validation_loss, 'b', label='Validation loss')\n",
    "plt.title('Loss')\n",
    "plt.xlabel('Epochs')\n",
    "plt.ylabel('Loss')\n",
    "plt.legend()\n",
    "plt.show()"
   ]
  },
  {
   "cell_type": "code",
   "execution_count": 72,
   "metadata": {},
   "outputs": [],
   "source": [
    "X_recons_conv1D = autoencoder1D.predict(df_last.values.reshape(df_last.shape[0],df_last.shape[1],1))\n",
    "X_recons_conv1D=X_recons_conv1D.reshape(X_recons_conv1D.shape[0],X_recons_conv1D.shape[1])\n",
    "Error1D =df_last- X_recons_conv1D"
   ]
  },
  {
   "cell_type": "code",
   "execution_count": 73,
   "metadata": {},
   "outputs": [],
   "source": [
    "df_results[\"score_AE_conv1D\"] = ((Error1D)**2).sum(axis=1)"
   ]
  },
  {
   "cell_type": "code",
   "execution_count": 74,
   "metadata": {},
   "outputs": [
    {
     "data": {
      "text/plain": [
       "Time\n",
       "2007-02-28 09:14:00    6.773136\n",
       "2006-03-03 16:29:00    4.749167\n",
       "2011-04-20 09:12:00    4.241805\n",
       "2007-11-05 17:18:00    2.507469\n",
       "2006-05-09 09:14:00    2.037173\n",
       "2011-02-24 09:09:00    1.673726\n",
       "2007-08-01 17:22:00    1.525658\n",
       "2011-03-15 17:23:00    1.516853\n",
       "2007-12-27 09:16:00    1.452969\n",
       "2006-05-15 09:44:00    1.369833\n",
       "2008-06-30 09:10:00    1.285647\n",
       "2007-07-20 09:10:00    1.211821\n",
       "2007-03-14 09:12:00    1.209432\n",
       "2007-08-06 17:22:00    1.096665\n",
       "2006-05-23 09:19:00    1.017669\n",
       "2006-01-31 09:02:00    1.002549\n",
       "2006-01-18 17:09:00    1.000421\n",
       "2006-06-09 17:20:00    0.945976\n",
       "2006-05-26 09:04:00    0.929849\n",
       "2007-02-12 09:14:00    0.928047\n",
       "Name: score_AE_conv1D, dtype: float64"
      ]
     },
     "execution_count": 74,
     "metadata": {},
     "output_type": "execute_result"
    }
   ],
   "source": [
    "df_results.sort_values(\"score_AE_conv1D\",ascending=False)[\"score_AE_conv1D\"].head(20)"
   ]
  },
  {
   "cell_type": "markdown",
   "metadata": {},
   "source": [
    "### 2D convolutional auto-encoder"
   ]
  },
  {
   "cell_type": "code",
   "execution_count": 75,
   "metadata": {},
   "outputs": [],
   "source": [
    "def matrix_transformation(df):\n",
    "    X=df.copy()\n",
    "    X_np = np.zeros((X.shape[0],X.shape[1],X.shape[1]))\n",
    "    for i in range(X.shape[0]):\n",
    "        for col in range(X.shape[1]):\n",
    "            cols_list = []\n",
    "            for j in range(X.shape[1]):\n",
    "                colN = col+1+j\n",
    "                if colN >28:\n",
    "                    colN=colN%28\n",
    "                \n",
    "                cols_list.append(\"ts{}\".format(colN))\n",
    "            \n",
    "            X_np[i,col,:] = df.loc[df.index[i]][cols_list].values\n",
    "        \n",
    "    return X_np\n"
   ]
  },
  {
   "cell_type": "code",
   "execution_count": 76,
   "metadata": {},
   "outputs": [],
   "source": [
    "df_img = matrix_transformation(df_last)"
   ]
  },
  {
   "cell_type": "code",
   "execution_count": 79,
   "metadata": {},
   "outputs": [
    {
     "name": "stdout",
     "output_type": "stream",
     "text": [
      "(5031, 28, 28, 1)\n",
      "(560, 28, 28, 1)\n"
     ]
    }
   ],
   "source": [
    "X_train, X_val = train_test_split(df_img, test_size=0.10)\n",
    "X_train=X_train.reshape(X_train.shape[0],28,28,1)\n",
    "X_val=X_val.reshape(X_val.shape[0],28,28,1)\n",
    "print(X_train.shape)\n",
    "print(X_val.shape)"
   ]
  },
  {
   "cell_type": "code",
   "execution_count": 89,
   "metadata": {},
   "outputs": [],
   "source": [
    "input_data2D = Input((28, 28,1))\n",
    "encoded2D = Conv2D(32, (3, 3), activation='relu')(input_data2D)\n",
    "encoded2D = MaxPooling2D((2, 2))(encoded2D)\n",
    "encoded2D = Conv2D(64, (3, 3), activation='relu')(encoded2D)\n",
    "encoded2D = MaxPooling2D((2, 2))(encoded2D)\n",
    "encoded2D = Conv2D(64, (3, 3), activation='relu')(encoded2D)\n",
    "encoded2D = Flatten()(encoded2D)\n",
    "encoded2D = Dense(49, activation='relu')(encoded2D)\n",
    "decoded2D = Reshape((7,7,1))(encoded2D)\n",
    "decoded2D = Conv2DTranspose(64,(3, 3), strides=2, activation='relu', padding='same')(decoded2D)\n",
    "decoded2D = Conv2DTranspose(64,(3, 3), strides=2, activation='relu', padding='same')(decoded2D)\n",
    "decoded2D = Conv2DTranspose(32,(3, 3), activation='relu', padding='same')(decoded2D)\n",
    "decoded2D = Conv2D(1, (3, 3), activation=None, padding='same')(decoded2D)\n",
    "\n",
    "autoencoder2D = Model(input_data2D, decoded2D)\n",
    "autoencoder2D.compile(optimizer='adam', loss='mean_squared_error')"
   ]
  },
  {
   "cell_type": "code",
   "execution_count": 90,
   "metadata": {},
   "outputs": [],
   "source": [
    "callback_ConvAE2D = [keras.callbacks.ReduceLROnPlateau(monitor='val_loss', factor=0.3, patience=60,verbose=1),\\\n",
    "                    keras.callbacks.ModelCheckpoint(filepath='Conv_AE_DIOR.h5',monitor='val_loss',save_best_only=True,\\\n",
    "                                                  save_weights_only=True,mode='min',verbose=1)]\n"
   ]
  },
  {
   "cell_type": "code",
   "execution_count": 91,
   "metadata": {
    "scrolled": true
   },
   "outputs": [
    {
     "name": "stdout",
     "output_type": "stream",
     "text": [
      "Train on 5031 samples, validate on 560 samples\n",
      "Epoch 1/140\n",
      "5031/5031 [==============================] - 15s 3ms/step - loss: 14.3471 - val_loss: 4.3328\n",
      "\n",
      "Epoch 00001: val_loss improved from inf to 4.33279, saving model to Conv_AE_DIOR.h5\n",
      "Epoch 2/140\n",
      "5031/5031 [==============================] - 15s 3ms/step - loss: 3.0542 - val_loss: 2.1254\n",
      "\n",
      "Epoch 00002: val_loss improved from 4.33279 to 2.12539, saving model to Conv_AE_DIOR.h5\n",
      "Epoch 3/140\n",
      "5031/5031 [==============================] - 16s 3ms/step - loss: 1.4924 - val_loss: 1.2413\n",
      "\n",
      "Epoch 00003: val_loss improved from 2.12539 to 1.24135, saving model to Conv_AE_DIOR.h5\n",
      "Epoch 4/140\n",
      "5031/5031 [==============================] - 17s 3ms/step - loss: 0.9796 - val_loss: 0.8521\n",
      "\n",
      "Epoch 00004: val_loss improved from 1.24135 to 0.85205, saving model to Conv_AE_DIOR.h5\n",
      "Epoch 5/140\n",
      "5031/5031 [==============================] - 17s 3ms/step - loss: 0.7059 - val_loss: 0.6133\n",
      "\n",
      "Epoch 00005: val_loss improved from 0.85205 to 0.61332, saving model to Conv_AE_DIOR.h5\n",
      "Epoch 6/140\n",
      "5031/5031 [==============================] - 17s 3ms/step - loss: 0.5197 - val_loss: 0.4609\n",
      "\n",
      "Epoch 00006: val_loss improved from 0.61332 to 0.46091, saving model to Conv_AE_DIOR.h5\n",
      "Epoch 7/140\n",
      "5031/5031 [==============================] - 17s 3ms/step - loss: 0.3972 - val_loss: 0.3697\n",
      "\n",
      "Epoch 00007: val_loss improved from 0.46091 to 0.36967, saving model to Conv_AE_DIOR.h5\n",
      "Epoch 8/140\n",
      "5031/5031 [==============================] - 17s 3ms/step - loss: 0.3241 - val_loss: 0.3080\n",
      "\n",
      "Epoch 00008: val_loss improved from 0.36967 to 0.30797, saving model to Conv_AE_DIOR.h5\n",
      "Epoch 9/140\n",
      "5031/5031 [==============================] - 17s 3ms/step - loss: 0.2773 - val_loss: 0.2680\n",
      "\n",
      "Epoch 00009: val_loss improved from 0.30797 to 0.26802, saving model to Conv_AE_DIOR.h5\n",
      "Epoch 10/140\n",
      "5031/5031 [==============================] - 17s 3ms/step - loss: 0.2442 - val_loss: 0.2395\n",
      "\n",
      "Epoch 00010: val_loss improved from 0.26802 to 0.23949, saving model to Conv_AE_DIOR.h5\n",
      "Epoch 11/140\n",
      "5031/5031 [==============================] - 18s 3ms/step - loss: 0.2194 - val_loss: 0.2173\n",
      "\n",
      "Epoch 00011: val_loss improved from 0.23949 to 0.21734, saving model to Conv_AE_DIOR.h5\n",
      "Epoch 12/140\n",
      "5031/5031 [==============================] - 18s 4ms/step - loss: 0.2001 - val_loss: 0.1998\n",
      "\n",
      "Epoch 00012: val_loss improved from 0.21734 to 0.19976, saving model to Conv_AE_DIOR.h5\n",
      "Epoch 13/140\n",
      "5031/5031 [==============================] - 26s 5ms/step - loss: 0.1853 - val_loss: 0.1858\n",
      "\n",
      "Epoch 00013: val_loss improved from 0.19976 to 0.18582, saving model to Conv_AE_DIOR.h5\n",
      "Epoch 14/140\n",
      "5031/5031 [==============================] - 59s 12ms/step - loss: 0.1735 - val_loss: 0.1749\n",
      "\n",
      "Epoch 00014: val_loss improved from 0.18582 to 0.17489, saving model to Conv_AE_DIOR.h5\n",
      "Epoch 15/140\n",
      "5031/5031 [==============================] - 69s 14ms/step - loss: 0.1635 - val_loss: 0.1653\n",
      "\n",
      "Epoch 00015: val_loss improved from 0.17489 to 0.16527, saving model to Conv_AE_DIOR.h5\n",
      "Epoch 16/140\n",
      "5031/5031 [==============================] - 43s 9ms/step - loss: 0.1551 - val_loss: 0.1569\n",
      "\n",
      "Epoch 00016: val_loss improved from 0.16527 to 0.15690, saving model to Conv_AE_DIOR.h5\n",
      "Epoch 17/140\n",
      "5031/5031 [==============================] - 35s 7ms/step - loss: 0.1477 - val_loss: 0.1499\n",
      "\n",
      "Epoch 00017: val_loss improved from 0.15690 to 0.14994, saving model to Conv_AE_DIOR.h5\n",
      "Epoch 18/140\n",
      "5031/5031 [==============================] - 33s 7ms/step - loss: 0.1409 - val_loss: 0.1427\n",
      "\n",
      "Epoch 00018: val_loss improved from 0.14994 to 0.14271, saving model to Conv_AE_DIOR.h5\n",
      "Epoch 19/140\n",
      "5031/5031 [==============================] - 31s 6ms/step - loss: 0.1346 - val_loss: 0.1365\n",
      "\n",
      "Epoch 00019: val_loss improved from 0.14271 to 0.13653, saving model to Conv_AE_DIOR.h5\n",
      "Epoch 20/140\n",
      "5031/5031 [==============================] - 32s 6ms/step - loss: 0.1293 - val_loss: 0.1313\n",
      "\n",
      "Epoch 00020: val_loss improved from 0.13653 to 0.13131, saving model to Conv_AE_DIOR.h5\n",
      "Epoch 21/140\n",
      "5031/5031 [==============================] - 33s 6ms/step - loss: 0.1242 - val_loss: 0.1263\n",
      "\n",
      "Epoch 00021: val_loss improved from 0.13131 to 0.12629, saving model to Conv_AE_DIOR.h5\n",
      "Epoch 22/140\n",
      "5031/5031 [==============================] - 33s 7ms/step - loss: 0.1196 - val_loss: 0.1211\n",
      "\n",
      "Epoch 00022: val_loss improved from 0.12629 to 0.12109, saving model to Conv_AE_DIOR.h5\n",
      "Epoch 23/140\n",
      "5031/5031 [==============================] - 34s 7ms/step - loss: 0.1152 - val_loss: 0.1163\n",
      "\n",
      "Epoch 00023: val_loss improved from 0.12109 to 0.11629, saving model to Conv_AE_DIOR.h5\n",
      "Epoch 24/140\n",
      "5031/5031 [==============================] - 34s 7ms/step - loss: 0.1110 - val_loss: 0.1125\n",
      "\n",
      "Epoch 00024: val_loss improved from 0.11629 to 0.11246, saving model to Conv_AE_DIOR.h5\n",
      "Epoch 25/140\n",
      "5031/5031 [==============================] - 35s 7ms/step - loss: 0.1074 - val_loss: 0.1091\n",
      "\n",
      "Epoch 00025: val_loss improved from 0.11246 to 0.10907, saving model to Conv_AE_DIOR.h5\n",
      "Epoch 26/140\n",
      "5031/5031 [==============================] - 35s 7ms/step - loss: 0.1043 - val_loss: 0.1051\n",
      "\n",
      "Epoch 00026: val_loss improved from 0.10907 to 0.10505, saving model to Conv_AE_DIOR.h5\n",
      "Epoch 27/140\n",
      "5031/5031 [==============================] - 34s 7ms/step - loss: 0.1011 - val_loss: 0.1029\n",
      "\n",
      "Epoch 00027: val_loss improved from 0.10505 to 0.10289, saving model to Conv_AE_DIOR.h5\n",
      "Epoch 28/140\n",
      "5031/5031 [==============================] - 35s 7ms/step - loss: 0.0980 - val_loss: 0.0994\n",
      "\n",
      "Epoch 00028: val_loss improved from 0.10289 to 0.09943, saving model to Conv_AE_DIOR.h5\n",
      "Epoch 29/140\n",
      "5031/5031 [==============================] - 35s 7ms/step - loss: 0.0952 - val_loss: 0.0966\n",
      "\n",
      "Epoch 00029: val_loss improved from 0.09943 to 0.09664, saving model to Conv_AE_DIOR.h5\n",
      "Epoch 30/140\n",
      "5031/5031 [==============================] - 35s 7ms/step - loss: 0.0928 - val_loss: 0.0940\n",
      "\n",
      "Epoch 00030: val_loss improved from 0.09664 to 0.09402, saving model to Conv_AE_DIOR.h5\n",
      "Epoch 31/140\n",
      "5031/5031 [==============================] - 36s 7ms/step - loss: 0.0908 - val_loss: 0.0921\n",
      "\n",
      "Epoch 00031: val_loss improved from 0.09402 to 0.09211, saving model to Conv_AE_DIOR.h5\n",
      "Epoch 32/140\n",
      "5031/5031 [==============================] - 31s 6ms/step - loss: 0.0890 - val_loss: 0.0898\n",
      "\n",
      "Epoch 00032: val_loss improved from 0.09211 to 0.08977, saving model to Conv_AE_DIOR.h5\n",
      "Epoch 33/140\n",
      "5031/5031 [==============================] - 22s 4ms/step - loss: 0.0885 - val_loss: 0.0906\n",
      "\n",
      "Epoch 00033: val_loss did not improve from 0.08977\n",
      "Epoch 34/140\n",
      "5031/5031 [==============================] - 20s 4ms/step - loss: 0.0861 - val_loss: 0.0867\n",
      "\n",
      "Epoch 00034: val_loss improved from 0.08977 to 0.08673, saving model to Conv_AE_DIOR.h5\n",
      "Epoch 35/140\n",
      "5031/5031 [==============================] - 20s 4ms/step - loss: 0.0847 - val_loss: 0.0869\n",
      "\n",
      "Epoch 00035: val_loss did not improve from 0.08673\n",
      "Epoch 36/140\n",
      "5031/5031 [==============================] - 19s 4ms/step - loss: 0.0835 - val_loss: 0.0871\n",
      "\n",
      "Epoch 00036: val_loss did not improve from 0.08673\n",
      "Epoch 37/140\n",
      "5031/5031 [==============================] - 22s 4ms/step - loss: 0.0815 - val_loss: 0.0822\n",
      "\n",
      "Epoch 00037: val_loss improved from 0.08673 to 0.08217, saving model to Conv_AE_DIOR.h5\n",
      "Epoch 38/140\n",
      "5031/5031 [==============================] - 22s 4ms/step - loss: 0.0796 - val_loss: 0.0802\n",
      "\n",
      "Epoch 00038: val_loss improved from 0.08217 to 0.08020, saving model to Conv_AE_DIOR.h5\n",
      "Epoch 39/140\n",
      "5031/5031 [==============================] - 26s 5ms/step - loss: 0.0779 - val_loss: 0.0792\n",
      "\n",
      "Epoch 00039: val_loss improved from 0.08020 to 0.07920, saving model to Conv_AE_DIOR.h5\n",
      "Epoch 40/140\n",
      "5031/5031 [==============================] - 27s 5ms/step - loss: 0.0770 - val_loss: 0.0776\n",
      "\n",
      "Epoch 00040: val_loss improved from 0.07920 to 0.07764, saving model to Conv_AE_DIOR.h5\n",
      "Epoch 41/140\n",
      "5031/5031 [==============================] - 30s 6ms/step - loss: 0.0758 - val_loss: 0.0770\n",
      "\n",
      "Epoch 00041: val_loss improved from 0.07764 to 0.07702, saving model to Conv_AE_DIOR.h5\n",
      "Epoch 42/140\n",
      "5031/5031 [==============================] - 32s 6ms/step - loss: 0.0757 - val_loss: 0.0780\n",
      "\n",
      "Epoch 00042: val_loss did not improve from 0.07702\n",
      "Epoch 43/140\n",
      "5031/5031 [==============================] - 32s 6ms/step - loss: 0.0744 - val_loss: 0.0754\n",
      "\n",
      "Epoch 00043: val_loss improved from 0.07702 to 0.07536, saving model to Conv_AE_DIOR.h5\n",
      "Epoch 44/140\n"
     ]
    },
    {
     "name": "stdout",
     "output_type": "stream",
     "text": [
      "5031/5031 [==============================] - 32s 6ms/step - loss: 0.0734 - val_loss: 0.0753\n",
      "\n",
      "Epoch 00044: val_loss improved from 0.07536 to 0.07533, saving model to Conv_AE_DIOR.h5\n",
      "Epoch 45/140\n",
      "5031/5031 [==============================] - 32s 6ms/step - loss: 0.0724 - val_loss: 0.0734\n",
      "\n",
      "Epoch 00045: val_loss improved from 0.07533 to 0.07337, saving model to Conv_AE_DIOR.h5\n",
      "Epoch 46/140\n",
      "5031/5031 [==============================] - 32s 6ms/step - loss: 0.0723 - val_loss: 0.0735\n",
      "\n",
      "Epoch 00046: val_loss did not improve from 0.07337\n",
      "Epoch 47/140\n",
      "5031/5031 [==============================] - 37s 7ms/step - loss: 0.0723 - val_loss: 0.0720\n",
      "\n",
      "Epoch 00047: val_loss improved from 0.07337 to 0.07197, saving model to Conv_AE_DIOR.h5\n",
      "Epoch 48/140\n",
      "5031/5031 [==============================] - 35s 7ms/step - loss: 0.0708 - val_loss: 0.0740\n",
      "\n",
      "Epoch 00048: val_loss did not improve from 0.07197\n",
      "Epoch 49/140\n",
      "5031/5031 [==============================] - 32s 6ms/step - loss: 0.0704 - val_loss: 0.0707\n",
      "\n",
      "Epoch 00049: val_loss improved from 0.07197 to 0.07072, saving model to Conv_AE_DIOR.h5\n",
      "Epoch 50/140\n",
      "5031/5031 [==============================] - 38s 7ms/step - loss: 0.0691 - val_loss: 0.0704\n",
      "\n",
      "Epoch 00050: val_loss improved from 0.07072 to 0.07041, saving model to Conv_AE_DIOR.h5\n",
      "Epoch 51/140\n",
      "5031/5031 [==============================] - 39s 8ms/step - loss: 0.0696 - val_loss: 0.0741\n",
      "\n",
      "Epoch 00051: val_loss did not improve from 0.07041\n",
      "Epoch 52/140\n",
      "5031/5031 [==============================] - 50s 10ms/step - loss: 0.0763 - val_loss: 0.0685\n",
      "\n",
      "Epoch 00052: val_loss improved from 0.07041 to 0.06854, saving model to Conv_AE_DIOR.h5\n",
      "Epoch 53/140\n",
      "5031/5031 [==============================] - 49s 10ms/step - loss: 0.0781 - val_loss: 0.0693\n",
      "\n",
      "Epoch 00053: val_loss did not improve from 0.06854\n",
      "Epoch 54/140\n",
      "5031/5031 [==============================] - 39s 8ms/step - loss: 0.0669 - val_loss: 0.0668\n",
      "\n",
      "Epoch 00054: val_loss improved from 0.06854 to 0.06678, saving model to Conv_AE_DIOR.h5\n",
      "Epoch 55/140\n",
      "5031/5031 [==============================] - 44s 9ms/step - loss: 0.0658 - val_loss: 0.0666\n",
      "\n",
      "Epoch 00055: val_loss improved from 0.06678 to 0.06663, saving model to Conv_AE_DIOR.h5\n",
      "Epoch 56/140\n",
      "5031/5031 [==============================] - 50s 10ms/step - loss: 0.0652 - val_loss: 0.0663\n",
      "\n",
      "Epoch 00056: val_loss improved from 0.06663 to 0.06634, saving model to Conv_AE_DIOR.h5\n",
      "Epoch 57/140\n",
      "5031/5031 [==============================] - 38s 8ms/step - loss: 0.0654 - val_loss: 0.0668\n",
      "\n",
      "Epoch 00057: val_loss did not improve from 0.06634\n",
      "Epoch 58/140\n",
      "5031/5031 [==============================] - 39s 8ms/step - loss: 0.0643 - val_loss: 0.0653\n",
      "\n",
      "Epoch 00058: val_loss improved from 0.06634 to 0.06525, saving model to Conv_AE_DIOR.h5\n",
      "Epoch 59/140\n",
      "5031/5031 [==============================] - 39s 8ms/step - loss: 0.0636 - val_loss: 0.0644\n",
      "\n",
      "Epoch 00059: val_loss improved from 0.06525 to 0.06442, saving model to Conv_AE_DIOR.h5\n",
      "Epoch 60/140\n",
      "5031/5031 [==============================] - 47s 9ms/step - loss: 0.0631 - val_loss: 0.0646\n",
      "\n",
      "Epoch 00060: val_loss did not improve from 0.06442\n",
      "Epoch 61/140\n",
      "5031/5031 [==============================] - 47s 9ms/step - loss: 0.0630 - val_loss: 0.0647\n",
      "\n",
      "Epoch 00061: val_loss did not improve from 0.06442\n",
      "Epoch 62/140\n",
      "5031/5031 [==============================] - 51s 10ms/step - loss: 0.0638 - val_loss: 0.0642\n",
      "\n",
      "Epoch 00062: val_loss improved from 0.06442 to 0.06424, saving model to Conv_AE_DIOR.h5\n",
      "Epoch 63/140\n",
      "5031/5031 [==============================] - 54s 11ms/step - loss: 0.0631 - val_loss: 0.0633\n",
      "\n",
      "Epoch 00063: val_loss improved from 0.06424 to 0.06328, saving model to Conv_AE_DIOR.h5\n",
      "Epoch 64/140\n",
      "5031/5031 [==============================] - 37s 7ms/step - loss: 0.0632 - val_loss: 0.0629\n",
      "\n",
      "Epoch 00064: val_loss improved from 0.06328 to 0.06294, saving model to Conv_AE_DIOR.h5\n",
      "Epoch 65/140\n",
      "5031/5031 [==============================] - 54s 11ms/step - loss: 0.0623 - val_loss: 0.0674\n",
      "\n",
      "Epoch 00065: val_loss did not improve from 0.06294\n",
      "Epoch 66/140\n",
      "5031/5031 [==============================] - 104s 21ms/step - loss: 0.0634 - val_loss: 0.0618\n",
      "\n",
      "Epoch 00066: val_loss improved from 0.06294 to 0.06179, saving model to Conv_AE_DIOR.h5\n",
      "Epoch 67/140\n",
      "5031/5031 [==============================] - 131s 26ms/step - loss: 0.0617 - val_loss: 0.0648\n",
      "\n",
      "Epoch 00067: val_loss did not improve from 0.06179\n",
      "Epoch 68/140\n",
      "5031/5031 [==============================] - 127s 25ms/step - loss: 0.0650 - val_loss: 0.0667\n",
      "\n",
      "Epoch 00068: val_loss did not improve from 0.06179\n",
      "Epoch 69/140\n",
      "5031/5031 [==============================] - 131s 26ms/step - loss: 0.0677 - val_loss: 0.0789\n",
      "\n",
      "Epoch 00069: val_loss did not improve from 0.06179\n",
      "Epoch 70/140\n",
      "5031/5031 [==============================] - 102s 20ms/step - loss: 0.0650 - val_loss: 0.0609\n",
      "\n",
      "Epoch 00070: val_loss improved from 0.06179 to 0.06088, saving model to Conv_AE_DIOR.h5\n",
      "Epoch 71/140\n",
      "5031/5031 [==============================] - 119s 24ms/step - loss: 0.0604 - val_loss: 0.0606\n",
      "\n",
      "Epoch 00071: val_loss improved from 0.06088 to 0.06058, saving model to Conv_AE_DIOR.h5\n",
      "Epoch 72/140\n",
      "5031/5031 [==============================] - 120s 24ms/step - loss: 0.0635 - val_loss: 0.0608\n",
      "\n",
      "Epoch 00072: val_loss did not improve from 0.06058\n",
      "Epoch 73/140\n",
      "5031/5031 [==============================] - 117s 23ms/step - loss: 0.0598 - val_loss: 0.0600\n",
      "\n",
      "Epoch 00073: val_loss improved from 0.06058 to 0.06005, saving model to Conv_AE_DIOR.h5\n",
      "Epoch 74/140\n",
      "5031/5031 [==============================] - 126s 25ms/step - loss: 0.0591 - val_loss: 0.0600\n",
      "\n",
      "Epoch 00074: val_loss improved from 0.06005 to 0.06002, saving model to Conv_AE_DIOR.h5\n",
      "Epoch 75/140\n",
      "5031/5031 [==============================] - 134s 27ms/step - loss: 0.0592 - val_loss: 0.0598\n",
      "\n",
      "Epoch 00075: val_loss improved from 0.06002 to 0.05981, saving model to Conv_AE_DIOR.h5\n",
      "Epoch 76/140\n",
      "5031/5031 [==============================] - 120s 24ms/step - loss: 0.0589 - val_loss: 0.0592\n",
      "\n",
      "Epoch 00076: val_loss improved from 0.05981 to 0.05925, saving model to Conv_AE_DIOR.h5\n",
      "Epoch 77/140\n",
      "5031/5031 [==============================] - 121s 24ms/step - loss: 0.0606 - val_loss: 0.0612\n",
      "\n",
      "Epoch 00077: val_loss did not improve from 0.05925\n",
      "Epoch 78/140\n",
      "5031/5031 [==============================] - 112s 22ms/step - loss: 0.0585 - val_loss: 0.0591\n",
      "\n",
      "Epoch 00078: val_loss improved from 0.05925 to 0.05906, saving model to Conv_AE_DIOR.h5\n",
      "Epoch 79/140\n",
      "5031/5031 [==============================] - 122s 24ms/step - loss: 0.0601 - val_loss: 0.0597\n",
      "\n",
      "Epoch 00079: val_loss did not improve from 0.05906\n",
      "Epoch 80/140\n",
      "5031/5031 [==============================] - 106s 21ms/step - loss: 0.0596 - val_loss: 0.0585\n",
      "\n",
      "Epoch 00080: val_loss improved from 0.05906 to 0.05850, saving model to Conv_AE_DIOR.h5\n",
      "Epoch 81/140\n",
      "5031/5031 [==============================] - 92s 18ms/step - loss: 0.0589 - val_loss: 0.0597\n",
      "\n",
      "Epoch 00081: val_loss did not improve from 0.05850\n",
      "Epoch 82/140\n",
      "5031/5031 [==============================] - 138s 27ms/step - loss: 0.0590 - val_loss: 0.0580\n",
      "\n",
      "Epoch 00082: val_loss improved from 0.05850 to 0.05802, saving model to Conv_AE_DIOR.h5\n",
      "Epoch 83/140\n",
      "5031/5031 [==============================] - 104s 21ms/step - loss: 0.0659 - val_loss: 0.0630\n",
      "\n",
      "Epoch 00083: val_loss did not improve from 0.05802\n",
      "Epoch 84/140\n",
      "5031/5031 [==============================] - 107s 21ms/step - loss: 0.0603 - val_loss: 0.0624\n",
      "\n",
      "Epoch 00084: val_loss did not improve from 0.05802\n",
      "Epoch 85/140\n",
      "5031/5031 [==============================] - 121s 24ms/step - loss: 0.0595 - val_loss: 0.0579\n",
      "\n",
      "Epoch 00085: val_loss improved from 0.05802 to 0.05793, saving model to Conv_AE_DIOR.h5\n",
      "Epoch 86/140\n",
      "5031/5031 [==============================] - 113s 22ms/step - loss: 0.0573 - val_loss: 0.0591\n",
      "\n",
      "Epoch 00086: val_loss did not improve from 0.05793\n",
      "Epoch 87/140\n",
      "5031/5031 [==============================] - 115s 23ms/step - loss: 0.0577 - val_loss: 0.0592\n",
      "\n",
      "Epoch 00087: val_loss did not improve from 0.05793\n",
      "Epoch 88/140\n",
      "5031/5031 [==============================] - 67s 13ms/step - loss: 0.0571 - val_loss: 0.0595\n",
      "\n",
      "Epoch 00088: val_loss did not improve from 0.05793\n",
      "Epoch 89/140\n",
      "5031/5031 [==============================] - 52s 10ms/step - loss: 0.0627 - val_loss: 0.0614\n",
      "\n",
      "Epoch 00089: val_loss did not improve from 0.05793\n",
      "Epoch 90/140\n"
     ]
    },
    {
     "name": "stdout",
     "output_type": "stream",
     "text": [
      "5031/5031 [==============================] - 88s 17ms/step - loss: 0.0621 - val_loss: 0.0572\n",
      "\n",
      "Epoch 00090: val_loss improved from 0.05793 to 0.05718, saving model to Conv_AE_DIOR.h5\n",
      "Epoch 91/140\n",
      "5031/5031 [==============================] - 88s 17ms/step - loss: 0.0585 - val_loss: 0.0581\n",
      "\n",
      "Epoch 00091: val_loss did not improve from 0.05718\n",
      "Epoch 92/140\n",
      "5031/5031 [==============================] - 70s 14ms/step - loss: 0.0582 - val_loss: 0.0574\n",
      "\n",
      "Epoch 00092: val_loss did not improve from 0.05718\n",
      "Epoch 93/140\n",
      "5031/5031 [==============================] - 96s 19ms/step - loss: 0.0561 - val_loss: 0.0571\n",
      "\n",
      "Epoch 00093: val_loss improved from 0.05718 to 0.05712, saving model to Conv_AE_DIOR.h5\n",
      "Epoch 94/140\n",
      "5031/5031 [==============================] - 88s 17ms/step - loss: 0.0565 - val_loss: 0.0582\n",
      "\n",
      "Epoch 00094: val_loss did not improve from 0.05712\n",
      "Epoch 95/140\n",
      "5031/5031 [==============================] - 102s 20ms/step - loss: 0.0586 - val_loss: 0.0566\n",
      "\n",
      "Epoch 00095: val_loss improved from 0.05712 to 0.05657, saving model to Conv_AE_DIOR.h5\n",
      "Epoch 96/140\n",
      "5031/5031 [==============================] - 106s 21ms/step - loss: 0.0716 - val_loss: 0.0692\n",
      "\n",
      "Epoch 00096: val_loss did not improve from 0.05657\n",
      "Epoch 97/140\n",
      "5031/5031 [==============================] - 99s 20ms/step - loss: 0.0588 - val_loss: 0.0573\n",
      "\n",
      "Epoch 00097: val_loss did not improve from 0.05657\n",
      "Epoch 98/140\n",
      "5031/5031 [==============================] - 100s 20ms/step - loss: 0.0565 - val_loss: 0.0587\n",
      "\n",
      "Epoch 00098: val_loss did not improve from 0.05657\n",
      "Epoch 99/140\n",
      "5031/5031 [==============================] - 109s 22ms/step - loss: 0.0565 - val_loss: 0.0565\n",
      "\n",
      "Epoch 00099: val_loss improved from 0.05657 to 0.05648, saving model to Conv_AE_DIOR.h5\n",
      "Epoch 100/140\n",
      "5031/5031 [==============================] - 106s 21ms/step - loss: 0.0568 - val_loss: 0.0578\n",
      "\n",
      "Epoch 00100: val_loss did not improve from 0.05648\n",
      "Epoch 101/140\n",
      "5031/5031 [==============================] - 107s 21ms/step - loss: 0.0599 - val_loss: 0.0761\n",
      "\n",
      "Epoch 00101: val_loss did not improve from 0.05648\n",
      "Epoch 102/140\n",
      "5031/5031 [==============================] - 108s 21ms/step - loss: 0.0765 - val_loss: 0.0858\n",
      "\n",
      "Epoch 00102: val_loss did not improve from 0.05648\n",
      "Epoch 103/140\n",
      "5031/5031 [==============================] - 104s 21ms/step - loss: 0.0627 - val_loss: 0.0576\n",
      "\n",
      "Epoch 00103: val_loss did not improve from 0.05648\n",
      "Epoch 104/140\n",
      "5031/5031 [==============================] - 104s 21ms/step - loss: 0.0566 - val_loss: 0.0563\n",
      "\n",
      "Epoch 00104: val_loss improved from 0.05648 to 0.05631, saving model to Conv_AE_DIOR.h5\n",
      "Epoch 105/140\n",
      "5031/5031 [==============================] - 150s 30ms/step - loss: 0.0551 - val_loss: 0.0558\n",
      "\n",
      "Epoch 00105: val_loss improved from 0.05631 to 0.05581, saving model to Conv_AE_DIOR.h5\n",
      "Epoch 106/140\n",
      "5031/5031 [==============================] - 142s 28ms/step - loss: 0.0558 - val_loss: 0.0560\n",
      "\n",
      "Epoch 00106: val_loss did not improve from 0.05581\n",
      "Epoch 107/140\n",
      "5031/5031 [==============================] - 107s 21ms/step - loss: 0.0551 - val_loss: 0.0554\n",
      "\n",
      "Epoch 00107: val_loss improved from 0.05581 to 0.05540, saving model to Conv_AE_DIOR.h5\n",
      "Epoch 108/140\n",
      "5031/5031 [==============================] - 91s 18ms/step - loss: 0.0550 - val_loss: 0.0557\n",
      "\n",
      "Epoch 00108: val_loss did not improve from 0.05540\n",
      "Epoch 109/140\n",
      "5031/5031 [==============================] - 91s 18ms/step - loss: 0.0552 - val_loss: 0.0553\n",
      "\n",
      "Epoch 00109: val_loss improved from 0.05540 to 0.05534, saving model to Conv_AE_DIOR.h5\n",
      "Epoch 110/140\n",
      "5031/5031 [==============================] - 92s 18ms/step - loss: 0.0564 - val_loss: 0.0580\n",
      "\n",
      "Epoch 00110: val_loss did not improve from 0.05534\n",
      "Epoch 111/140\n",
      "5031/5031 [==============================] - 101s 20ms/step - loss: 0.0608 - val_loss: 0.0551\n",
      "\n",
      "Epoch 00111: val_loss improved from 0.05534 to 0.05508, saving model to Conv_AE_DIOR.h5\n",
      "Epoch 112/140\n",
      "5031/5031 [==============================] - 114s 23ms/step - loss: 0.0596 - val_loss: 0.0577\n",
      "\n",
      "Epoch 00112: val_loss did not improve from 0.05508\n",
      "Epoch 113/140\n",
      "5031/5031 [==============================] - 109s 22ms/step - loss: 0.0575 - val_loss: 0.0631\n",
      "\n",
      "Epoch 00113: val_loss did not improve from 0.05508\n",
      "Epoch 114/140\n",
      "5031/5031 [==============================] - 97s 19ms/step - loss: 0.0595 - val_loss: 0.0561\n",
      "\n",
      "Epoch 00114: val_loss did not improve from 0.05508\n",
      "Epoch 115/140\n",
      "5031/5031 [==============================] - 100s 20ms/step - loss: 0.0547 - val_loss: 0.0550\n",
      "\n",
      "Epoch 00115: val_loss improved from 0.05508 to 0.05497, saving model to Conv_AE_DIOR.h5\n",
      "Epoch 116/140\n",
      "5031/5031 [==============================] - 95s 19ms/step - loss: 0.0551 - val_loss: 0.0554\n",
      "\n",
      "Epoch 00116: val_loss did not improve from 0.05497\n",
      "Epoch 117/140\n",
      "5031/5031 [==============================] - 99s 20ms/step - loss: 0.0559 - val_loss: 0.0598\n",
      "\n",
      "Epoch 00117: val_loss did not improve from 0.05497\n",
      "Epoch 118/140\n",
      "5031/5031 [==============================] - 99s 20ms/step - loss: 0.0577 - val_loss: 0.0558\n",
      "\n",
      "Epoch 00118: val_loss did not improve from 0.05497\n",
      "Epoch 119/140\n",
      "5031/5031 [==============================] - 106s 21ms/step - loss: 0.0586 - val_loss: 0.0683\n",
      "\n",
      "Epoch 00119: val_loss did not improve from 0.05497\n",
      "Epoch 120/140\n",
      "5031/5031 [==============================] - 109s 22ms/step - loss: 0.0640 - val_loss: 0.0633\n",
      "\n",
      "Epoch 00120: val_loss did not improve from 0.05497\n",
      "Epoch 121/140\n",
      "5031/5031 [==============================] - 103s 21ms/step - loss: 0.0568 - val_loss: 0.0575\n",
      "\n",
      "Epoch 00121: val_loss did not improve from 0.05497\n",
      "Epoch 122/140\n",
      "5031/5031 [==============================] - 99s 20ms/step - loss: 0.0587 - val_loss: 0.0643\n",
      "\n",
      "Epoch 00122: val_loss did not improve from 0.05497\n",
      "Epoch 123/140\n",
      "5031/5031 [==============================] - 96s 19ms/step - loss: 0.0594 - val_loss: 0.0691\n",
      "\n",
      "Epoch 00123: val_loss did not improve from 0.05497\n",
      "Epoch 124/140\n",
      "5031/5031 [==============================] - 97s 19ms/step - loss: 0.0583 - val_loss: 0.0575\n",
      "\n",
      "Epoch 00124: val_loss did not improve from 0.05497\n",
      "Epoch 125/140\n",
      "5031/5031 [==============================] - 105s 21ms/step - loss: 0.0548 - val_loss: 0.0543\n",
      "\n",
      "Epoch 00125: val_loss improved from 0.05497 to 0.05430, saving model to Conv_AE_DIOR.h5\n",
      "Epoch 126/140\n",
      "5031/5031 [==============================] - 100s 20ms/step - loss: 0.0548 - val_loss: 0.0551\n",
      "\n",
      "Epoch 00126: val_loss did not improve from 0.05430\n",
      "Epoch 127/140\n",
      "5031/5031 [==============================] - 90s 18ms/step - loss: 0.0566 - val_loss: 0.0582\n",
      "\n",
      "Epoch 00127: val_loss did not improve from 0.05430\n",
      "Epoch 128/140\n",
      "5031/5031 [==============================] - 46s 9ms/step - loss: 0.0554 - val_loss: 0.0544\n",
      "\n",
      "Epoch 00128: val_loss did not improve from 0.05430\n",
      "Epoch 129/140\n",
      "5031/5031 [==============================] - 44s 9ms/step - loss: 0.0536 - val_loss: 0.0546\n",
      "\n",
      "Epoch 00129: val_loss did not improve from 0.05430\n",
      "Epoch 130/140\n",
      "5031/5031 [==============================] - 72s 14ms/step - loss: 0.0585 - val_loss: 0.0609\n",
      "\n",
      "Epoch 00130: val_loss did not improve from 0.05430\n",
      "Epoch 131/140\n",
      "5031/5031 [==============================] - 134s 27ms/step - loss: 0.0640 - val_loss: 0.0722\n",
      "\n",
      "Epoch 00131: val_loss did not improve from 0.05430\n",
      "Epoch 132/140\n",
      "5031/5031 [==============================] - 123s 24ms/step - loss: 0.0592 - val_loss: 0.0654\n",
      "\n",
      "Epoch 00132: val_loss did not improve from 0.05430\n",
      "Epoch 133/140\n",
      "5031/5031 [==============================] - 129s 26ms/step - loss: 0.0630 - val_loss: 0.0544\n",
      "\n",
      "Epoch 00133: val_loss did not improve from 0.05430\n",
      "Epoch 134/140\n",
      "5031/5031 [==============================] - 140s 28ms/step - loss: 0.0570 - val_loss: 0.0552\n",
      "\n",
      "Epoch 00134: val_loss did not improve from 0.05430\n",
      "Epoch 135/140\n",
      "5031/5031 [==============================] - 92s 18ms/step - loss: 0.0548 - val_loss: 0.0540\n",
      "\n",
      "Epoch 00135: val_loss improved from 0.05430 to 0.05396, saving model to Conv_AE_DIOR.h5\n",
      "Epoch 136/140\n",
      "5031/5031 [==============================] - 65s 13ms/step - loss: 0.0538 - val_loss: 0.0577\n",
      "\n",
      "Epoch 00136: val_loss did not improve from 0.05396\n",
      "Epoch 137/140\n",
      "5031/5031 [==============================] - 116s 23ms/step - loss: 0.0561 - val_loss: 0.0538\n",
      "\n",
      "Epoch 00137: val_loss improved from 0.05396 to 0.05381, saving model to Conv_AE_DIOR.h5\n",
      "Epoch 138/140\n"
     ]
    },
    {
     "name": "stdout",
     "output_type": "stream",
     "text": [
      "5031/5031 [==============================] - 124s 25ms/step - loss: 0.0556 - val_loss: 0.0551\n",
      "\n",
      "Epoch 00138: val_loss did not improve from 0.05381\n",
      "Epoch 139/140\n",
      "5031/5031 [==============================] - 123s 24ms/step - loss: 0.0605 - val_loss: 0.0600\n",
      "\n",
      "Epoch 00139: val_loss did not improve from 0.05381\n",
      "Epoch 140/140\n",
      "5031/5031 [==============================] - 130s 26ms/step - loss: 0.0551 - val_loss: 0.0570\n",
      "\n",
      "Epoch 00140: val_loss did not improve from 0.05381\n"
     ]
    }
   ],
   "source": [
    "history2D = autoencoder2D.fit(X_train, X_train,\n",
    "                epochs=140,\n",
    "                batch_size=256,\n",
    "                shuffle=True,\n",
    "                validation_data=(X_val, X_val),\n",
    "                callbacks=callback_ConvAE2D)"
   ]
  },
  {
   "cell_type": "code",
   "execution_count": 93,
   "metadata": {},
   "outputs": [
    {
     "data": {
      "image/png": "[encoded data removed]",
      "text/plain": [
       "<Figure size 432x288 with 1 Axes>"
      ]
     },
     "metadata": {
      "needs_background": "light"
     },
     "output_type": "display_data"
    }
   ],
   "source": [
    "history_dict=history2D.history\n",
    "training_loss = history_dict['loss'][0:140:1]\n",
    "validation_loss = history_dict['val_loss'][0:140:1]\n",
    "epochs = range(0, 140,1)\n",
    "plt.plot(epochs, training_loss, 'bo', label='Training loss')\n",
    "plt.plot(epochs, validation_loss, 'b', label='Validation loss')\n",
    "plt.title('Loss')\n",
    "plt.xlabel('Epochs')\n",
    "plt.ylabel('Loss')\n",
    "plt.legend()\n",
    "plt.show()"
   ]
  },
  {
   "cell_type": "code",
   "execution_count": 94,
   "metadata": {},
   "outputs": [],
   "source": [
    "X_recons_img = autoencoder2D.predict(df_img.reshape(df_img.shape[0],28,28,1))\n",
    "Error2D =df_img.reshape(df_img.shape[0],28,28,1)- X_recons_img\n",
    "Error2D=Error2D.reshape(Error2D.shape[0],28,28)\n",
    "df_results[\"score_AE_Conv2D\"] = ((Error2D)**2).sum(axis=1).sum(axis=1)"
   ]
  },
  {
   "cell_type": "code",
   "execution_count": 95,
   "metadata": {},
   "outputs": [
    {
     "data": {
      "text/plain": [
       "Time\n",
       "2007-02-28 09:14:00    403.210979\n",
       "2006-03-03 16:29:00    401.279850\n",
       "2006-05-09 09:14:00    294.087357\n",
       "2006-04-07 14:53:00    232.911736\n",
       "2006-05-10 09:50:00    231.156784\n",
       "2006-04-07 11:42:00    230.123871\n",
       "2006-04-04 13:55:00    226.718022\n",
       "2006-04-07 17:36:00    224.162065\n",
       "2006-05-10 13:19:00    220.618360\n",
       "2006-04-05 12:40:00    220.124636\n",
       "2006-05-09 15:10:00    217.002357\n",
       "2006-04-05 15:05:00    216.876301\n",
       "2006-05-09 10:09:00    215.329020\n",
       "2006-05-09 11:28:00    213.943405\n",
       "2006-05-12 11:46:00    213.928545\n",
       "2006-04-19 12:16:00    213.361403\n",
       "2006-04-05 10:55:00    212.873783\n",
       "2006-05-09 17:01:00    212.809805\n",
       "2006-04-19 17:17:00    211.529140\n",
       "2006-04-04 11:25:00    210.898751\n",
       "Name: score_AE_Conv2D, dtype: float64"
      ]
     },
     "execution_count": 95,
     "metadata": {},
     "output_type": "execute_result"
    }
   ],
   "source": [
    "df_results.sort_values(\"score_AE_Conv2D\",ascending=False)[\"score_AE_Conv2D\"].head(20)"
   ]
  },
  {
   "cell_type": "markdown",
   "metadata": {},
   "source": [
    "## Final result with ensemble method"
   ]
  },
  {
   "cell_type": "code",
   "execution_count": 103,
   "metadata": {},
   "outputs": [
    {
     "data": {
      "text/plain": [
       "Index(['score_IF', 'score_AE', 'knn_score', 'LOF_score', 'score_AE_conv1D',\n",
       "       'score_AE_Conv2D'],\n",
       "      dtype='object')"
      ]
     },
     "execution_count": 103,
     "metadata": {},
     "output_type": "execute_result"
    }
   ],
   "source": [
    "df_results.columns[-6:]"
   ]
  },
  {
   "cell_type": "code",
   "execution_count": 104,
   "metadata": {},
   "outputs": [],
   "source": [
    "for c in df_results.columns[-6:]:\n",
    "    scaler = StandardScaler()\n",
    "    scaler.fit(df_results[c].values.reshape(-1, 1))\n",
    "    df_results[c] = scaler.transform(df_results[c].values.reshape(-1, 1))\n",
    "    del scaler"
   ]
  },
  {
   "cell_type": "code",
   "execution_count": 105,
   "metadata": {},
   "outputs": [
    {
     "data": {
      "text/html": [
       "<div>\n",
       "<style scoped>\n",
       "    .dataframe tbody tr th:only-of-type {\n",
       "        vertical-align: middle;\n",
       "    }\n",
       "\n",
       "    .dataframe tbody tr th {\n",
       "        vertical-align: top;\n",
       "    }\n",
       "\n",
       "    .dataframe thead th {\n",
       "        text-align: right;\n",
       "    }\n",
       "</style>\n",
       "<table border=\"1\" class=\"dataframe\">\n",
       "  <thead>\n",
       "    <tr style=\"text-align: right;\">\n",
       "      <th></th>\n",
       "      <th>score_IF</th>\n",
       "      <th>score_AE</th>\n",
       "      <th>knn_score</th>\n",
       "      <th>LOF_score</th>\n",
       "      <th>score_AE_conv1D</th>\n",
       "      <th>score_AE_Conv2D</th>\n",
       "    </tr>\n",
       "    <tr>\n",
       "      <th>Time</th>\n",
       "      <th></th>\n",
       "      <th></th>\n",
       "      <th></th>\n",
       "      <th></th>\n",
       "      <th></th>\n",
       "      <th></th>\n",
       "    </tr>\n",
       "  </thead>\n",
       "  <tbody>\n",
       "    <tr>\n",
       "      <th>2005-01-03 12:18:00</th>\n",
       "      <td>0.208255</td>\n",
       "      <td>1.542480</td>\n",
       "      <td>1.535284</td>\n",
       "      <td>1.992965</td>\n",
       "      <td>0.772776</td>\n",
       "      <td>-0.692652</td>\n",
       "    </tr>\n",
       "    <tr>\n",
       "      <th>2005-01-04 11:20:00</th>\n",
       "      <td>0.457278</td>\n",
       "      <td>1.251973</td>\n",
       "      <td>1.357244</td>\n",
       "      <td>2.046437</td>\n",
       "      <td>0.528492</td>\n",
       "      <td>-0.771794</td>\n",
       "    </tr>\n",
       "    <tr>\n",
       "      <th>2005-01-05 17:28:00</th>\n",
       "      <td>-0.147680</td>\n",
       "      <td>0.064732</td>\n",
       "      <td>0.279534</td>\n",
       "      <td>0.849786</td>\n",
       "      <td>0.008161</td>\n",
       "      <td>-0.899692</td>\n",
       "    </tr>\n",
       "    <tr>\n",
       "      <th>2005-01-07 10:47:00</th>\n",
       "      <td>0.302053</td>\n",
       "      <td>0.408603</td>\n",
       "      <td>0.558233</td>\n",
       "      <td>1.134172</td>\n",
       "      <td>-0.093633</td>\n",
       "      <td>-0.886219</td>\n",
       "    </tr>\n",
       "    <tr>\n",
       "      <th>2005-01-11 15:14:00</th>\n",
       "      <td>0.288397</td>\n",
       "      <td>0.539633</td>\n",
       "      <td>1.356044</td>\n",
       "      <td>1.740678</td>\n",
       "      <td>0.224751</td>\n",
       "      <td>-0.829399</td>\n",
       "    </tr>\n",
       "  </tbody>\n",
       "</table>\n",
       "</div>"
      ],
      "text/plain": [
       "                     score_IF  score_AE  knn_score  LOF_score  \\\n",
       "Time                                                            \n",
       "2005-01-03 12:18:00  0.208255  1.542480   1.535284   1.992965   \n",
       "2005-01-04 11:20:00  0.457278  1.251973   1.357244   2.046437   \n",
       "2005-01-05 17:28:00 -0.147680  0.064732   0.279534   0.849786   \n",
       "2005-01-07 10:47:00  0.302053  0.408603   0.558233   1.134172   \n",
       "2005-01-11 15:14:00  0.288397  0.539633   1.356044   1.740678   \n",
       "\n",
       "                     score_AE_conv1D  score_AE_Conv2D  \n",
       "Time                                                   \n",
       "2005-01-03 12:18:00         0.772776        -0.692652  \n",
       "2005-01-04 11:20:00         0.528492        -0.771794  \n",
       "2005-01-05 17:28:00         0.008161        -0.899692  \n",
       "2005-01-07 10:47:00        -0.093633        -0.886219  \n",
       "2005-01-11 15:14:00         0.224751        -0.829399  "
      ]
     },
     "execution_count": 105,
     "metadata": {},
     "output_type": "execute_result"
    }
   ],
   "source": [
    "df_results[df_results.columns[-6:]].head()"
   ]
  },
  {
   "cell_type": "code",
   "execution_count": 108,
   "metadata": {},
   "outputs": [],
   "source": [
    "df_results[\"final_score\"]=df_results[df_results.columns[-6:]].mean(axis=1)"
   ]
  },
  {
   "cell_type": "code",
   "execution_count": 109,
   "metadata": {},
   "outputs": [
    {
     "data": {
      "text/plain": [
       "Time\n",
       "2007-02-28 09:14:00    17.945974\n",
       "2006-03-03 16:29:00    11.581459\n",
       "2007-12-27 09:16:00     9.630974\n",
       "2007-03-14 09:12:00     9.126495\n",
       "2008-06-30 09:10:00     7.561125\n",
       "2006-05-15 09:44:00     6.167871\n",
       "2006-05-09 09:14:00     5.615619\n",
       "2006-05-23 09:19:00     5.287872\n",
       "2006-06-09 09:12:00     5.028269\n",
       "2011-04-20 09:12:00     4.901535\n",
       "2006-05-10 09:50:00     4.791183\n",
       "2007-08-01 17:22:00     4.748772\n",
       "2006-07-17 11:02:00     4.726789\n",
       "2006-05-30 09:54:00     4.588787\n",
       "2006-01-18 17:09:00     4.036080\n",
       "2006-03-28 10:10:00     3.884941\n",
       "2006-03-17 09:32:00     3.852038\n",
       "2006-05-12 11:46:00     3.825286\n",
       "2006-04-20 15:16:00     3.777197\n",
       "2011-02-24 09:09:00     3.771161\n",
       "Name: final_score, dtype: float64"
      ]
     },
     "execution_count": 109,
     "metadata": {},
     "output_type": "execute_result"
    }
   ],
   "source": [
    "df_results.sort_values(\"final_score\",ascending=False)[\"final_score\"].head(20)"
   ]
  },
  {
   "cell_type": "code",
   "execution_count": 124,
   "metadata": {},
   "outputs": [],
   "source": [
    "def sub_curve(df,ind):\n",
    "    Y= df.loc[ind,\"ts1\":\"ts28\"].values\n",
    "    x=np.array(range(28))\n",
    "    plt.plot(x, Y)\n",
    "    plt.title(ind)\n",
    "    plt.show()"
   ]
  },
  {
   "cell_type": "code",
   "execution_count": 128,
   "metadata": {
    "scrolled": false
   },
   "outputs": [
    {
     "data": {
      "image/png": "[encoded data removed]",
      "text/plain": [
       "<Figure size 432x288 with 1 Axes>"
      ]
     },
     "metadata": {
      "needs_background": "light"
     },
     "output_type": "display_data"
    },
    {
     "data": {
      "image/png": "[encoded data removed]",
      "text/plain": [
       "<Figure size 432x288 with 1 Axes>"
      ]
     },
     "metadata": {
      "needs_background": "light"
     },
     "output_type": "display_data"
    },
    {
     "data": {
      "image/png": "[encoded data removed]",
      "text/plain": [
       "<Figure size 432x288 with 1 Axes>"
      ]
     },
     "metadata": {
      "needs_background": "light"
     },
     "output_type": "display_data"
    },
    {
     "data": {
      "image/png": "[encoded data removed]",
      "text/plain": [
       "<Figure size 432x288 with 1 Axes>"
      ]
     },
     "metadata": {
      "needs_background": "light"
     },
     "output_type": "display_data"
    },
    {
     "data": {
      "image/png": "[encoded data removed]",
      "text/plain": [
       "<Figure size 432x288 with 1 Axes>"
      ]
     },
     "metadata": {
      "needs_background": "light"
     },
     "output_type": "display_data"
    },
    {
     "data": {
      "image/png": "[encoded data removed]",
      "text/plain": [
       "<Figure size 432x288 with 1 Axes>"
      ]
     },
     "metadata": {
      "needs_background": "light"
     },
     "output_type": "display_data"
    },
    {
     "data": {
      "image/png": "[encoded data removed]",
      "text/plain": [
       "<Figure size 432x288 with 1 Axes>"
      ]
     },
     "metadata": {
      "needs_background": "light"
     },
     "output_type": "display_data"
    },
    {
     "data": {
      "image/png": "[encoded data removed]",
      "text/plain": [
       "<Figure size 432x288 with 1 Axes>"
      ]
     },
     "metadata": {
      "needs_background": "light"
     },
     "output_type": "display_data"
    },
    {
     "data": {
      "image/png": "[encoded data removed]",
      "text/plain": [
       "<Figure size 432x288 with 1 Axes>"
      ]
     },
     "metadata": {
      "needs_background": "light"
     },
     "output_type": "display_data"
    },
    {
     "data": {
      "image/png": "[encoded data removed]",
      "text/plain": [
       "<Figure size 432x288 with 1 Axes>"
      ]
     },
     "metadata": {
      "needs_background": "light"
     },
     "output_type": "display_data"
    },
    {
     "data": {
      "image/png": "[encoded data removed]",
      "text/plain": [
       "<Figure size 432x288 with 1 Axes>"
      ]
     },
     "metadata": {
      "needs_background": "light"
     },
     "output_type": "display_data"
    },
    {
     "data": {
      "image/png": "[encoded data removed]",
      "text/plain": [
       "<Figure size 432x288 with 1 Axes>"
      ]
     },
     "metadata": {
      "needs_background": "light"
     },
     "output_type": "display_data"
    },
    {
     "data": {
      "image/png": "[encoded data removed]",
      "text/plain": [
       "<Figure size 432x288 with 1 Axes>"
      ]
     },
     "metadata": {
      "needs_background": "light"
     },
     "output_type": "display_data"
    },
    {
     "data": {
      "image/png": "[encoded data removed]",
      "text/plain": [
       "<Figure size 432x288 with 1 Axes>"
      ]
     },
     "metadata": {
      "needs_background": "light"
     },
     "output_type": "display_data"
    },
    {
     "data": {
      "image/png": "[encoded data removed]",
      "text/plain": [
       "<Figure size 432x288 with 1 Axes>"
      ]
     },
     "metadata": {
      "needs_background": "light"
     },
     "output_type": "display_data"
    },
    {
     "data": {
      "image/png": "[encoded data removed]",
      "text/plain": [
       "<Figure size 432x288 with 1 Axes>"
      ]
     },
     "metadata": {
      "needs_background": "light"
     },
     "output_type": "display_data"
    },
    {
     "data": {
      "image/png": "[encoded data removed]",
      "text/plain": [
       "<Figure size 432x288 with 1 Axes>"
      ]
     },
     "metadata": {
      "needs_background": "light"
     },
     "output_type": "display_data"
    },
    {
     "data": {
      "image/png": "[encoded data removed]",
      "text/plain": [
       "<Figure size 432x288 with 1 Axes>"
      ]
     },
     "metadata": {
      "needs_background": "light"
     },
     "output_type": "display_data"
    },
    {
     "data": {
      "image/png": "[encoded data removed]",
      "text/plain": [
       "<Figure size 432x288 with 1 Axes>"
      ]
     },
     "metadata": {
      "needs_background": "light"
     },
     "output_type": "display_data"
    },
    {
     "data": {
      "image/png": "[encoded data removed]",
      "text/plain": [
       "<Figure size 432x288 with 1 Axes>"
      ]
     },
     "metadata": {
      "needs_background": "light"
     },
     "output_type": "display_data"
    }
   ],
   "source": [
    "for ind in df_results.sort_values(\"final_score\",ascending=False).index[0:20]:\n",
    "    sub_curve(df_results,ind)"
   ]
  },
  {
   "cell_type": "code",
   "execution_count": null,
   "metadata": {},
   "outputs": [],
   "source": []
  }
 ],
 "metadata": {
  "kernelspec": {
   "display_name": "Python 3",
   "language": "python",
   "name": "python3"
  },
  "language_info": {
   "codemirror_mode": {
    "name": "ipython",
    "version": 3
   },
   "file_extension": ".py",
   "mimetype": "text/x-python",
   "name": "python",
   "nbconvert_exporter": "python",
   "pygments_lexer": "ipython3",
   "version": "3.6.8"
  }
 },
 "nbformat": 4,
 "nbformat_minor": 2
}
